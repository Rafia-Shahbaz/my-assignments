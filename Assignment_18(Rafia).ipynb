{
  "nbformat": 4,
  "nbformat_minor": 0,
  "metadata": {
    "colab": {
      "provenance": [],
      "authorship_tag": "ABX9TyM9WYXLJ9FfgKvE41EOvfKH",
      "include_colab_link": true
    },
    "kernelspec": {
      "name": "python3",
      "display_name": "Python 3"
    },
    "language_info": {
      "name": "python"
    }
  },
  "cells": [
    {
      "cell_type": "markdown",
      "metadata": {
        "id": "view-in-github",
        "colab_type": "text"
      },
      "source": [
        "<a href=\"https://colab.research.google.com/github/Rafia-Shahbaz/my-assignments/blob/main/Assignment_18(Rafia).ipynb\" target=\"_parent\"><img src=\"https://colab.research.google.com/assets/colab-badge.svg\" alt=\"Open In Colab\"/></a>"
      ]
    },
    {
      "cell_type": "markdown",
      "source": [
        "**Advanced OOP (2) – Encapsulation, Inheritance, Polymorphism, Method Resolution order**"
      ],
      "metadata": {
        "id": "8ZPI2nuUN1GH"
      }
    },
    {
      "cell_type": "markdown",
      "source": [
        "Create a class BankAccount with private attribute __balance, and methods deposit() and withdraw() to demonstrate encapsulation."
      ],
      "metadata": {
        "id": "8msYzlWY05KE"
      }
    },
    {
      "cell_type": "code",
      "execution_count": null,
      "metadata": {
        "colab": {
          "base_uri": "https://localhost:8080/"
        },
        "id": "db5ZeA-c0ov9",
        "outputId": "5cc09348-c932-401f-8dfa-b489e3776c88"
      },
      "outputs": [
        {
          "output_type": "stream",
          "name": "stdout",
          "text": [
            "1500\n",
            "Insufficient balance\n",
            "None\n",
            "1000\n"
          ]
        }
      ],
      "source": [
        "class BankAccount:\n",
        "    def __init__(self, balance):\n",
        "        self.__balance = balance\n",
        "\n",
        "    def deposit(self, amount):\n",
        "        self.__balance += amount\n",
        "        return self.__balance\n",
        "\n",
        "    def withdraw(self, amount):\n",
        "        if self.__balance >= amount:\n",
        "            self.__balance -= amount\n",
        "            return self.__balance\n",
        "        else:\n",
        "            print(\"Insufficient balance\")\n",
        "acc = BankAccount(1000)\n",
        "print(acc.deposit(500))\n",
        "print(acc.withdraw(2000))\n",
        "print(acc.withdraw(500))"
      ]
    },
    {
      "cell_type": "markdown",
      "source": [
        " Implement a subclass SavingsAccount that inherits BankAccount and adds an add_interest() method."
      ],
      "metadata": {
        "id": "npEbjilh3goN"
      }
    },
    {
      "cell_type": "code",
      "source": [
        "class SavingsAccount(BankAccount):\n",
        "    def add_interest(self, rate):\n",
        "        interest = self._BankAccount__balance * (rate / 100)\n",
        "        self._BankAccount__balance += interest\n",
        "        return self._BankAccount__balance\n",
        "acc = SavingsAccount(1000)\n",
        "print(acc.add_interest(0.05))"
      ],
      "metadata": {
        "colab": {
          "base_uri": "https://localhost:8080/"
        },
        "id": "jiXaNj_G3nGp",
        "outputId": "694a5c2a-0b51-415c-8502-ee5290533508"
      },
      "execution_count": null,
      "outputs": [
        {
          "output_type": "stream",
          "name": "stdout",
          "text": [
            "1000.5\n"
          ]
        }
      ]
    },
    {
      "cell_type": "markdown",
      "source": [
        " Show method resolution order (MRO) using multiple inheritance: define classes A, B, C(A, B) and print C.mro()."
      ],
      "metadata": {
        "id": "Ul0i09Nd4Sa5"
      }
    },
    {
      "cell_type": "code",
      "source": [
        "class A:\n",
        "  pass\n",
        "class B:\n",
        "  pass\n",
        "class C(A,B):\n",
        "  pass\n",
        "print(C.mro())"
      ],
      "metadata": {
        "colab": {
          "base_uri": "https://localhost:8080/"
        },
        "id": "UxSS95f84WvA",
        "outputId": "b5680f67-ccf1-46f6-f89e-6d9d1456d696"
      },
      "execution_count": null,
      "outputs": [
        {
          "output_type": "stream",
          "name": "stdout",
          "text": [
            "[<class '__main__.C'>, <class '__main__.A'>, <class '__main__.B'>, <class 'object'>]\n"
          ]
        }
      ]
    },
    {
      "cell_type": "markdown",
      "source": [
        "Demonstrate polymorphism: create classes Cat and Dog each with method speak(), and write a function make_speak(animal) that calls the correct method."
      ],
      "metadata": {
        "id": "5aY9iR9t4th6"
      }
    },
    {
      "cell_type": "code",
      "source": [
        "class Dog:\n",
        "  def speak(self):\n",
        "      return \"Woof woof!\"\n",
        "class Cat:\n",
        "  def speak(self):\n",
        "      return \"Meow meow!\"\n",
        "def make_speak(animal):\n",
        "    print(animal.speak())\n",
        "dog = Dog()\n",
        "cat = Cat()\n",
        "make_speak(dog)"
      ],
      "metadata": {
        "colab": {
          "base_uri": "https://localhost:8080/"
        },
        "id": "oQR-7LQo4u4i",
        "outputId": "c6aba770-a4d2-4b03-e1ce-42183c96c567"
      },
      "execution_count": null,
      "outputs": [
        {
          "output_type": "stream",
          "name": "stdout",
          "text": [
            "Woof woof!\n"
          ]
        }
      ]
    },
    {
      "cell_type": "markdown",
      "source": [
        " Create a class Employee with attribute salary, then subclass Manager(Employee) and override display_salary() to add a bonus.\n",
        " Use the super() function inside the overridden method for proper initialization and output."
      ],
      "metadata": {
        "id": "2FJlozux5VZd"
      }
    },
    {
      "cell_type": "code",
      "source": [
        "class Employee:\n",
        "    def __init__(self, salary):\n",
        "        self.salary = salary\n",
        "    def display_salary(self):\n",
        "        print(f\"Salary: {self.salary}\")\n",
        "class Manager(Employee):\n",
        "    def __init__(self, salary, bonus):\n",
        "        super().__init__(salary)\n",
        "        self.bonus = bonus\n",
        "class MangerSuper(Employee):\n",
        "    def __init__(self, salary, bonus):\n",
        "        super().__init__(salary)\n",
        "        self.bonus = bonus\n",
        "    def display_salary(self):\n",
        "        super().display_salary()\n",
        "        print(f\"Salary + Bonus: {self.salary + self.bonus}\")\n",
        "emp = Employee(10000)\n",
        "emp.display_salary()\n",
        "mgr = Manager(20000, 5000)\n",
        "mgr.display_salary()\n",
        "mgr_super = MangerSuper(60000, 18000)\n",
        "mgr_super.display_salary()"
      ],
      "metadata": {
        "colab": {
          "base_uri": "https://localhost:8080/"
        },
        "id": "vlCqr9Mp87Rm",
        "outputId": "949800d7-009e-496f-caf4-505d24ebdfd6"
      },
      "execution_count": null,
      "outputs": [
        {
          "output_type": "stream",
          "name": "stdout",
          "text": [
            "Salary: 10000\n",
            "Salary: 20000\n",
            "Salary: 60000\n",
            "Salary + Bonus: 78000\n"
          ]
        }
      ]
    },
    {
      "cell_type": "markdown",
      "source": [
        "Implement operator overloading: define _eq_() in Employee to compare employees by salary."
      ],
      "metadata": {
        "id": "3gNksseXCS2R"
      }
    },
    {
      "cell_type": "code",
      "source": [
        "class EmployeeEd:\n",
        "    def __init__(self, name, salary):\n",
        "        self.name = name\n",
        "        self.salary = salary\n",
        "    def __eq__(self, other):\n",
        "        return self.salary == other.salary\n",
        "emp1 = EmployeeEd(\"Ali\", 50000)\n",
        "emp2 = EmployeeEd(\"Ahmad\", 60000)\n",
        "emp3 = EmployeeEd(\"Noor\", 50000)\n",
        "print(emp1 == emp2)\n",
        "print(emp1 == emp3)"
      ],
      "metadata": {
        "colab": {
          "base_uri": "https://localhost:8080/"
        },
        "id": "FeTaCwVICXYm",
        "outputId": "9c8505b1-8409-4a03-bc74-6ae5da75d8c7"
      },
      "execution_count": null,
      "outputs": [
        {
          "output_type": "stream",
          "name": "stdout",
          "text": [
            "False\n",
            "True\n"
          ]
        }
      ]
    },
    {
      "cell_type": "markdown",
      "source": [
        " Create a class Logger and use it as a decorator to log method calls on a target class."
      ],
      "metadata": {
        "id": "NwCJ0YizDNBl"
      }
    },
    {
      "cell_type": "code",
      "source": [
        "class Logger:\n",
        "    def __init__(self, func):\n",
        "        self.func = func\n",
        "    def __call__(self, *args, **kwargs):\n",
        "        print(f\"Calling {self.func.__name__} with args {args} and kwargs {kwargs}\")\n",
        "        return self.func(*args, **kwargs)\n",
        "class MathOps:\n",
        "    def add(self, a, b):\n",
        "        return a + b\n",
        "math_obj = MathOps()\n",
        "math_obj.add = Logger(math_obj.add)\n",
        "print(\"Add result:\", math_obj.add(10, 20))"
      ],
      "metadata": {
        "colab": {
          "base_uri": "https://localhost:8080/"
        },
        "id": "IGNVeuTXDcPp",
        "outputId": "d8748d82-274c-4e4b-c5e1-5096913f606e"
      },
      "execution_count": null,
      "outputs": [
        {
          "output_type": "stream",
          "name": "stdout",
          "text": [
            "Calling add with args (10, 20) and kwargs {}\n",
            "Add result: 30\n"
          ]
        }
      ]
    },
    {
      "cell_type": "markdown",
      "source": [
        " Demonstrate dynamic attribute creation by using setattr() to add an attribute department to an instance of Employee."
      ],
      "metadata": {
        "id": "uvwPaORKJoty"
      }
    },
    {
      "cell_type": "code",
      "source": [
        "emp = Employee(4000)\n",
        "setattr(emp, \"department\", \"IT\")\n",
        "print(emp.department)\n"
      ],
      "metadata": {
        "colab": {
          "base_uri": "https://localhost:8080/"
        },
        "id": "yykXwSUbJ68F",
        "outputId": "fe1d35e9-8be3-4a2c-8f49-f3c94b19dfad"
      },
      "execution_count": null,
      "outputs": [
        {
          "output_type": "stream",
          "name": "stdout",
          "text": [
            "IT\n"
          ]
        }
      ]
    },
    {
      "cell_type": "markdown",
      "source": [
        "Use the built-in isinstance() and issubclass() functions in code to verify object relationships and print meaningful messages."
      ],
      "metadata": {
        "id": "UN8JxmVRKmKu"
      }
    },
    {
      "cell_type": "code",
      "source": [
        "print(isinstance(emp, Employee))\n",
        "print(issubclass(Manager, Employee))"
      ],
      "metadata": {
        "colab": {
          "base_uri": "https://localhost:8080/"
        },
        "id": "3NYEa5eXKoFt",
        "outputId": "3de26fd5-33ff-4eff-c5c1-3752ef1e9120"
      },
      "execution_count": null,
      "outputs": [
        {
          "output_type": "stream",
          "name": "stdout",
          "text": [
            "True\n",
            "True\n"
          ]
        }
      ]
    }
  ]
}