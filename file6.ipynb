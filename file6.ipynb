{
 "cells": [
  {
   "cell_type": "markdown",
   "id": "1aa21b9b",
   "metadata": {},
   "source": [
    "#Print numbers fron 1 to 20 using a while loop."
   ]
  },
  {
   "cell_type": "code",
   "execution_count": 2,
   "id": "a4de9c78",
   "metadata": {},
   "outputs": [
    {
     "name": "stdout",
     "output_type": "stream",
     "text": [
      "1\n",
      "2\n",
      "3\n",
      "4\n",
      "5\n",
      "6\n",
      "7\n",
      "8\n",
      "9\n",
      "10\n",
      "11\n",
      "12\n",
      "13\n",
      "14\n",
      "15\n",
      "16\n",
      "17\n",
      "18\n",
      "19\n",
      "20\n"
     ]
    }
   ],
   "source": [
    "num = 1\n",
    "while num <= 20:\n",
    "    print(num)\n",
    "    num += 1"
   ]
  },
  {
   "cell_type": "markdown",
   "id": "f95405e7",
   "metadata": {},
   "source": [
    "#Print every 3rd bumber from 3 to 30."
   ]
  },
  {
   "cell_type": "code",
   "execution_count": 3,
   "id": "efb6e3e7",
   "metadata": {},
   "outputs": [
    {
     "name": "stdout",
     "output_type": "stream",
     "text": [
      "3\n",
      "6\n",
      "9\n",
      "12\n",
      "15\n",
      "18\n",
      "21\n",
      "24\n",
      "27\n",
      "30\n"
     ]
    }
   ],
   "source": [
    "for num in range(3, 31, 3):\n",
    "    print(num)"
   ]
  },
  {
   "cell_type": "markdown",
   "id": "49d73e06",
   "metadata": {},
   "source": [
    "#Print the sum of even numbers from 2 to 20."
   ]
  },
  {
   "cell_type": "code",
   "execution_count": 7,
   "id": "0e766c4c",
   "metadata": {},
   "outputs": [
    {
     "name": "stdout",
     "output_type": "stream",
     "text": [
      "110\n"
     ]
    }
   ],
   "source": [
    "sum_even = 0\n",
    "for num in range(2, 21, 2):\n",
    "    sum_even += num\n",
    "print(sum_even)"
   ]
  },
  {
   "cell_type": "markdown",
   "id": "787b120b",
   "metadata": {},
   "source": [
    "#Print the product of odd numbers from 1 to 9."
   ]
  },
  {
   "cell_type": "code",
   "execution_count": 8,
   "id": "47e85038",
   "metadata": {},
   "outputs": [
    {
     "name": "stdout",
     "output_type": "stream",
     "text": [
      "945\n"
     ]
    }
   ],
   "source": [
    "product = 1\n",
    "for num in range(1, 10, 2):\n",
    "    product *= num\n",
    "print(product)"
   ]
  },
  {
   "cell_type": "markdown",
   "id": "73638b8d",
   "metadata": {},
   "source": [
    "#Create a list of 5 names and print each on a new line."
   ]
  },
  {
   "cell_type": "code",
   "execution_count": 9,
   "id": "2a431066",
   "metadata": {},
   "outputs": [
    {
     "name": "stdout",
     "output_type": "stream",
     "text": [
      "Seerat\n",
      "Farwa\n",
      "Meerab\n",
      "Faiza\n",
      "Ayesha\n"
     ]
    }
   ],
   "source": [
    "names = [\"Seerat\", \"Farwa\", \"Meerab\", \"Faiza\", \"Ayesha\"]\n",
    "for name in names:\n",
    "    print(name)"
   ]
  },
  {
   "cell_type": "markdown",
   "id": "58582845",
   "metadata": {},
   "source": [
    "#Count how many letters 'a' are in the world \"banana\"."
   ]
  },
  {
   "cell_type": "code",
   "execution_count": 11,
   "id": "33b2799a",
   "metadata": {},
   "outputs": [
    {
     "name": "stdout",
     "output_type": "stream",
     "text": [
      "Count of 'a': 1\n"
     ]
    }
   ],
   "source": [
    "word = \"pineapple\"\n",
    "count = word.count('a')\n",
    "print(\"Count of 'a':\", count)"
   ]
  },
  {
   "cell_type": "markdown",
   "id": "aebcab9a",
   "metadata": {},
   "source": [
    "#Print only the negative numbers from a given list."
   ]
  },
  {
   "cell_type": "code",
   "execution_count": 12,
   "id": "7de50454",
   "metadata": {},
   "outputs": [
    {
     "name": "stdout",
     "output_type": "stream",
     "text": [
      "-5\n",
      "-7\n",
      "-9\n"
     ]
    }
   ],
   "source": [
    "numbers = [3, -5, -7, 1, 8, -9]\n",
    "for num in numbers:\n",
    "    if num < 0:\n",
    "        print(num)"
   ]
  },
  {
   "cell_type": "markdown",
   "id": "c330e883",
   "metadata": {},
   "source": [
    "#"
   ]
  },
  {
   "cell_type": "markdown",
   "id": "9116a1dc",
   "metadata": {},
   "source": [
    "#Print only the numbers ending in 5 from 1 to 50."
   ]
  },
  {
   "cell_type": "code",
   "execution_count": 16,
   "id": "1091eef9",
   "metadata": {},
   "outputs": [
    {
     "name": "stdout",
     "output_type": "stream",
     "text": [
      "5\n",
      "15\n",
      "25\n",
      "35\n",
      "45\n"
     ]
    }
   ],
   "source": [
    "for num in range(1, 51):\n",
    "    if num % 10 == 5:\n",
    "        print(num)"
   ]
  },
  {
   "cell_type": "markdown",
   "id": "4d836705",
   "metadata": {},
   "source": [
    "#Print the length of each word in the list[\"cat\", \"elephant\", \"bat\"]."
   ]
  },
  {
   "cell_type": "code",
   "execution_count": 18,
   "id": "38262b9e",
   "metadata": {},
   "outputs": [
    {
     "name": "stdout",
     "output_type": "stream",
     "text": [
      "3\n",
      "8\n",
      "3\n"
     ]
    }
   ],
   "source": [
    "words = [\"cat\", \"elephant\", \"bat\"]\n",
    "for word in words:\n",
    "    print(len(word))"
   ]
  },
  {
   "cell_type": "markdown",
   "id": "305e18d3",
   "metadata": {},
   "source": [
    "# Take 3 numbers as input from the user and print their average."
   ]
  },
  {
   "cell_type": "code",
   "execution_count": 19,
   "id": "9f0362c0",
   "metadata": {},
   "outputs": [
    {
     "name": "stdout",
     "output_type": "stream",
     "text": [
      "43.666666666666664\n"
     ]
    }
   ],
   "source": [
    "num1 = int(input(\"Enter first number: \"))\n",
    "num2 = int(input(\"Enter second number: \"))\n",
    "num3 = int(input(\"Enter third number: \"))\n",
    "average = (num1 + num2 + num3) / 3\n",
    "print(average)"
   ]
  },
  {
   "cell_type": "markdown",
   "id": "e881a711",
   "metadata": {},
   "source": [
    "#Print the table of 5 in reverse (from 5x10 to 5x1)."
   ]
  },
  {
   "cell_type": "code",
   "execution_count": 23,
   "id": "f5c3d3ec",
   "metadata": {},
   "outputs": [
    {
     "name": "stdout",
     "output_type": "stream",
     "text": [
      "5 x 10 = 50\n",
      "5 x 9 = 45\n",
      "5 x 8 = 40\n",
      "5 x 7 = 35\n",
      "5 x 6 = 30\n",
      "5 x 5 = 25\n",
      "5 x 4 = 20\n",
      "5 x 3 = 15\n",
      "5 x 2 = 10\n",
      "5 x 1 = 5\n"
     ]
    }
   ],
   "source": [
    "for i in range(10 , 0, -1):\n",
    "    print(f\"5 x {i} = {5 * i}\")"
   ]
  },
  {
   "cell_type": "markdown",
   "id": "1fd69ade",
   "metadata": {},
   "source": [
    "#Use a for loop to print all characters in \"Python Is fun\"."
   ]
  },
  {
   "cell_type": "code",
   "execution_count": 39,
   "id": "a5b7780d",
   "metadata": {},
   "outputs": [
    {
     "name": "stdout",
     "output_type": "stream",
     "text": [
      "P\n",
      "y\n",
      "t\n",
      "h\n",
      "o\n",
      "n\n",
      " \n",
      "I\n",
      "s\n",
      " \n",
      "f\n",
      "u\n",
      "n\n"
     ]
    }
   ],
   "source": [
    "text = \"Python Is fun\"\n",
    "for char in text:\n",
    "    print(char)"
   ]
  },
  {
   "cell_type": "markdown",
   "id": "c70034da",
   "metadata": {},
   "source": [
    "#Create a list of numbers and print every second item."
   ]
  },
  {
   "cell_type": "code",
   "execution_count": 26,
   "id": "3c48031b",
   "metadata": {},
   "outputs": [
    {
     "name": "stdout",
     "output_type": "stream",
     "text": [
      "Every second item: \n",
      "[2, 4, 6, 8, 10]\n"
     ]
    }
   ],
   "source": [
    "numbers = [1, 2, 3, 4, 5, 6, 7, 8, 9, 10]\n",
    "print(\"Every second item: \")\n",
    "print(numbers[1::2])"
   ]
  },
  {
   "cell_type": "markdown",
   "id": "6b329da3",
   "metadata": {},
   "source": [
    "#Take a word from the user and count how many consonants it has."
   ]
  },
  {
   "cell_type": "code",
   "execution_count": 29,
   "id": "6a2ec5d7",
   "metadata": {},
   "outputs": [
    {
     "name": "stdout",
     "output_type": "stream",
     "text": [
      "Number of consonants: 5\n"
     ]
    }
   ],
   "source": [
    "word = input(\"Enter a word: \")\n",
    "consonants = \"abcdefghigklmnoprstwyxz\"\n",
    "count = 0\n",
    "for char in word:\n",
    "    if char in consonants:\n",
    "        count += 1\n",
    "print(f\"Number of consonants: {count}\")"
   ]
  },
  {
   "cell_type": "markdown",
   "id": "1ad8632c",
   "metadata": {},
   "source": [
    "#Print the cubes of numbers from 1 to 5."
   ]
  },
  {
   "cell_type": "code",
   "execution_count": 31,
   "id": "2e9caca0",
   "metadata": {},
   "outputs": [
    {
     "name": "stdout",
     "output_type": "stream",
     "text": [
      "1 is 3\n",
      "2 is 6\n",
      "3 is 9\n",
      "4 is 12\n",
      "5 is 15\n"
     ]
    }
   ],
   "source": [
    "for i in range(1, 6):\n",
    "    print(f\"{i} is {i*3}\")"
   ]
  },
  {
   "cell_type": "markdown",
   "id": "cf5a0eeb",
   "metadata": {},
   "source": [
    "#Take a list of words and print those that start with 'a'."
   ]
  },
  {
   "cell_type": "code",
   "execution_count": 40,
   "id": "1d7b3226",
   "metadata": {},
   "outputs": [
    {
     "name": "stdout",
     "output_type": "stream",
     "text": [
      "Words starting with 'a':\n",
      "apple\n",
      "apricot\n",
      "avocado\n"
     ]
    }
   ],
   "source": [
    "words = [\"apple\", \"cherry\", \"apricot\", \"avocado\"]\n",
    "print(\"Words starting with 'a':\")\n",
    "for word in words:\n",
    "    if word.startswith(\"a\"):\n",
    "        print(word)"
   ]
  },
  {
   "cell_type": "markdown",
   "id": "fc105a81",
   "metadata": {},
   "source": [
    "#Use a loop to print numbers between 100 and 110 (excluding 105)."
   ]
  },
  {
   "cell_type": "code",
   "execution_count": 34,
   "id": "71541475",
   "metadata": {},
   "outputs": [
    {
     "name": "stdout",
     "output_type": "stream",
     "text": [
      "100\n",
      "101\n",
      "102\n",
      "103\n",
      "104\n",
      "106\n",
      "107\n",
      "108\n",
      "109\n",
      "110\n"
     ]
    }
   ],
   "source": [
    "for i in range(100, 111):\n",
    "    if i == 105:\n",
    "        continue\n",
    "    print(i)"
   ]
  },
  {
   "cell_type": "markdown",
   "id": "473560ab",
   "metadata": {},
   "source": [
    "#Print the first 5 positive multiples of 4."
   ]
  },
  {
   "cell_type": "code",
   "execution_count": 35,
   "id": "d56dedd8",
   "metadata": {},
   "outputs": [
    {
     "name": "stdout",
     "output_type": "stream",
     "text": [
      "4\n",
      "8\n",
      "12\n",
      "16\n",
      "20\n"
     ]
    }
   ],
   "source": [
    "for i in range(1, 6):\n",
    "    print(4 * i)"
   ]
  },
  {
   "cell_type": "markdown",
   "id": "aee17918",
   "metadata": {},
   "source": [
    "#Print each word in the sentence \"acoding is easy\" on a new line."
   ]
  },
  {
   "cell_type": "code",
   "execution_count": 36,
   "id": "079acb95",
   "metadata": {},
   "outputs": [
    {
     "name": "stdout",
     "output_type": "stream",
     "text": [
      "Coding\n",
      "is\n",
      "easy\n"
     ]
    }
   ],
   "source": [
    "sentence = \"Coding is easy\"\n",
    "words = sentence.split()\n",
    "for word in words:\n",
    "    print(word)"
   ]
  },
  {
   "cell_type": "markdown",
   "id": "77f78d12",
   "metadata": {},
   "source": [
    "#**Create a number list and print only even numbers using conditions in loop."
   ]
  },
  {
   "cell_type": "code",
   "execution_count": 37,
   "id": "4accd324",
   "metadata": {},
   "outputs": [
    {
     "name": "stdout",
     "output_type": "stream",
     "text": [
      "Even numbers: \n",
      "2\n",
      "4\n",
      "6\n",
      "8\n",
      "10\n"
     ]
    }
   ],
   "source": [
    "numbers = [1, 2, 4, 3, 5, 7, 6, 8, 9, 10]\n",
    "print(\"Even numbers: \")\n",
    "for num in numbers:\n",
    "    if num % 2 == 0:\n",
    "        print(num)"
   ]
  }
 ],
 "metadata": {
  "kernelspec": {
   "display_name": "Python 3",
   "language": "python",
   "name": "python3"
  },
  "language_info": {
   "codemirror_mode": {
    "name": "ipython",
    "version": 3
   },
   "file_extension": ".py",
   "mimetype": "text/x-python",
   "name": "python",
   "nbconvert_exporter": "python",
   "pygments_lexer": "ipython3",
   "version": "3.13.5"
  }
 },
 "nbformat": 4,
 "nbformat_minor": 5
}
