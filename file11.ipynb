{
 "cells": [
  {
   "cell_type": "markdown",
   "id": "ed2c90b9",
   "metadata": {},
   "source": [
    "𝗖𝗿𝗲𝗮𝘁𝗲 𝗮 𝘀𝗲𝘁 {𝟭𝟬, 𝟮𝟬, 𝟯𝟬}, 𝘂𝘀𝗲 add() 𝘁𝗼 𝗮𝗱𝗱 𝟱𝟬, 𝘁𝗵𝗲𝗻 update() 𝘄𝗶𝘁𝗵 𝗮 𝗹𝗶𝘀𝘁 [𝟰𝟬, 𝟲𝟬]. 𝗣𝗿𝗶𝗻𝘁 𝘁𝗵𝗲 𝗳𝗶𝗻𝗮𝗹 𝘀𝗲𝘁."
   ]
  },
  {
   "cell_type": "code",
   "execution_count": 2,
   "id": "773394c3",
   "metadata": {},
   "outputs": [
    {
     "name": "stdout",
     "output_type": "stream",
     "text": [
      "Final set:  {40, 10, 50, 20, 60, 30}\n"
     ]
    }
   ],
   "source": [
    "s = {10, 20, 30}\n",
    "s.add(50)\n",
    "s.update([40, 60])\n",
    "print(\"Final set: \", s)"
   ]
  },
  {
   "cell_type": "markdown",
   "id": "77444095",
   "metadata": {},
   "source": [
    "𝗖𝗿𝗲𝗮𝘁𝗲 𝗮 𝘀𝗲𝘁 𝗼𝗳 𝗳𝗿𝘂𝗶𝘁𝘀 {“𝗮𝗽𝗽𝗹𝗲”, “𝗯𝗮𝗻𝗮𝗻𝗮”, “𝗰𝗵𝗲𝗿𝗿𝘆”}, 𝗿𝗲𝗺𝗼𝘃𝗲 \"𝗯𝗮𝗻𝗮𝗻𝗮\" 𝘄𝗶𝘁𝗵 remove() 𝗮𝗻𝗱 \"𝗼𝗿𝗮𝗻𝗴𝗲\" 𝘄𝗶𝘁𝗵 discard(). 𝗢𝗯𝘀𝗲𝗿𝘃𝗲 𝘁𝗵𝗲 𝗱𝗶𝗳𝗳𝗲𝗿𝗲𝗻𝗰𝗲 𝗶𝗻 𝗲𝗿𝗿𝗼𝗿 𝗵𝗮𝗻𝗱𝗹𝗶𝗻𝗴."
   ]
  },
  {
   "cell_type": "code",
   "execution_count": 3,
   "id": "7c8670f9",
   "metadata": {},
   "outputs": [
    {
     "name": "stdout",
     "output_type": "stream",
     "text": [
      "Fruits:  {'cherry', 'apple'}\n"
     ]
    }
   ],
   "source": [
    "fruits = {\"apple\", \"banana\", \"cherry\"}\n",
    "fruits.remove(\"banana\")\n",
    "fruits.discard(\"orange\")\n",
    "print(\"Fruits: \", fruits)"
   ]
  },
  {
   "cell_type": "markdown",
   "id": "4b1dba79",
   "metadata": {},
   "source": [
    "𝗖𝗿𝗲𝗮𝘁𝗲 𝘀𝗲𝘁 {“𝗿𝗲𝗱”, “𝗴𝗿𝗲𝗲𝗻”, “𝗯𝗹𝘂𝗲”}. 𝗥𝗲𝗺𝗼𝘃𝗲 𝗼𝗻𝗲 𝗶𝘁𝗲𝗺 𝘄𝗶𝘁𝗵 pop() 𝘁𝗵𝗲𝗻 𝗲𝗺𝗽𝘁𝘆 𝘁𝗵𝗲 𝘀𝗲𝘁 𝘄𝗶𝘁𝗵 clear(). 𝗣𝗿𝗶𝗻𝘁 𝗮𝗳𝘁𝗲𝗿 𝗲𝗮𝗰𝗵."
   ]
  },
  {
   "cell_type": "code",
   "execution_count": 4,
   "id": "4cf88e49",
   "metadata": {},
   "outputs": [
    {
     "name": "stdout",
     "output_type": "stream",
     "text": [
      "After pop:  {'green', 'red'}\n",
      "After clear:  set()\n"
     ]
    }
   ],
   "source": [
    "colors = {\"red\", \"green\", \"blue\"}\n",
    "removed = colors.pop()\n",
    "print(\"After pop: \", colors)\n",
    "colors.clear()\n",
    "print(\"After clear: \", colors)"
   ]
  },
  {
   "cell_type": "markdown",
   "id": "a9cfef71",
   "metadata": {},
   "source": [
    "𝗚𝗶𝘃𝗲𝗻: set1 = {1, 2, 3, 4}, set2 = {3, 4, 5, 6}, 𝗽𝗲𝗿𝗳𝗼𝗿𝗺 𝘁𝗵𝗲 𝗳𝗼𝗹𝗹𝗼𝘄𝗶𝗻𝗴: union(), intersection(), difference(), symmetric_difference(). 𝗣𝗿𝗶𝗻𝘁 𝗿𝗲𝘀𝘂𝗹𝘁𝘀."
   ]
  },
  {
   "cell_type": "code",
   "execution_count": 6,
   "id": "d1baffbd",
   "metadata": {},
   "outputs": [
    {
     "name": "stdout",
     "output_type": "stream",
     "text": [
      "Union:  {1, 2, 3, 4, 5, 6}\n",
      "Intersection:  {3, 4}\n",
      "Difference (set1 - set2): {1, 2}\n",
      "Symmtric Difference:  {1, 2, 5, 6}\n"
     ]
    }
   ],
   "source": [
    "set1 = {1, 2, 3, 4}\n",
    "set2 = {3, 4, 5, 6}\n",
    "print(\"Union: \", set1.union(set2))\n",
    "print(\"Intersection: \", set1.intersection(set2))\n",
    "print(\"Difference (set1 - set2):\", set1.difference(set2))\n",
    "print(\"Symmtric Difference: \", set1.symmetric_difference(set2))"
   ]
  },
  {
   "cell_type": "markdown",
   "id": "421c979b",
   "metadata": {},
   "source": [
    "𝗚𝗶𝘃𝗲𝗻 𝘀𝗲𝘁𝘀: A = {1, 2, 3}, B = {1, 2}. 𝗖𝗵𝗲𝗰𝗸: 𝗜𝘀 B 𝗮 𝘀𝘂𝗯𝘀𝗲𝘁 𝗼𝗳 A? 𝗜𝘀 A 𝗮 𝘀𝘂𝗽𝗲𝗿𝘀𝗲𝘁 𝗼𝗳 B? 𝗔𝗿𝗲 𝘁𝗵𝗲𝘆 𝗱𝗶𝘀𝗷𝗼𝗶𝗻𝘁?"
   ]
  },
  {
   "cell_type": "code",
   "execution_count": 7,
   "id": "1a8e454b",
   "metadata": {},
   "outputs": [
    {
     "name": "stdout",
     "output_type": "stream",
     "text": [
      "Is B subset of A? True\n",
      "Is A superset of B? True\n",
      "Are A and B disjoint? False\n"
     ]
    }
   ],
   "source": [
    "A = {1, 2, 3}\n",
    "B = {1, 2}\n",
    "print(\"Is B subset of A?\", B.issubset(A))\n",
    "print(\"Is A superset of B?\", A.issuperset(B))\n",
    "print(\"Are A and B disjoint?\", A.isdisjoint(B))"
   ]
  },
  {
   "cell_type": "markdown",
   "id": "43dee755",
   "metadata": {},
   "source": [
    "𝗖𝗿𝗲𝗮𝘁𝗲 𝗮 frozenset(['𝗮', '𝗲', '𝗶', '𝗼', '𝘂']). 𝗧𝗿𝘆 𝘁𝗼 add() 𝗼𝗿 remove() 𝗮𝗻 𝗲𝗹𝗲𝗺𝗲𝗻𝘁. 𝗖𝗮𝘁𝗰𝗵 𝘁𝗵𝗲 𝗲𝗿𝗿𝗼𝗿 𝗮𝗻𝗱 𝗲𝘅𝗽𝗹𝗮𝗶𝗻 𝗶𝗻 𝗰𝗼𝗺𝗺𝗲𝗻𝘁 𝘄𝗵𝘆 frozenset 𝗶𝘀 𝗶𝗺𝗺𝘂𝘁𝗮𝗯𝗹𝗲."
   ]
  },
  {
   "cell_type": "code",
   "execution_count": 8,
   "id": "0572e191",
   "metadata": {},
   "outputs": [
    {
     "name": "stdout",
     "output_type": "stream",
     "text": [
      "Error:  'frozenset' object has no attribute 'add'\n"
     ]
    }
   ],
   "source": [
    "vowels = frozenset(['a', 'e', 'i', 'o', 'u'])\n",
    "try:\n",
    "    vowels.add('y')\n",
    "except AttributeError as e:\n",
    "    print(\"Error: \", e)"
   ]
  },
  {
   "cell_type": "markdown",
   "id": "7ceb9366",
   "metadata": {},
   "source": [
    "𝗧𝘄𝗼 𝗳𝗿𝗼𝘇𝗲𝗻𝘀𝗲𝘁𝘀: fs1 = frozenset([1, 2, 3]), fs2 = frozenset([2, 3, 4]). 𝗔𝗽𝗽𝗹𝘆: union(), intersection(), difference(), symmetric_difference(). 𝗣𝗿𝗶𝗻𝘁 𝗲𝗮𝗰𝗵"
   ]
  },
  {
   "cell_type": "code",
   "execution_count": 9,
   "id": "83641ca9",
   "metadata": {},
   "outputs": [
    {
     "name": "stdout",
     "output_type": "stream",
     "text": [
      "Union:  frozenset({1, 2, 3, 4})\n",
      "Intersection:  frozenset({2, 3})\n",
      "Difference (fs1 - fs2):  frozenset({1})\n",
      "Symmetric Diffrerence:  frozenset({1, 4})\n"
     ]
    }
   ],
   "source": [
    "fs1 = frozenset([1, 2, 3])\n",
    "fs2 = frozenset([2, 3, 4])\n",
    "print(\"Union: \", fs1.union(fs2))\n",
    "print(\"Intersection: \", fs1.intersection(fs2))\n",
    "print(\"Difference (fs1 - fs2): \", fs1.difference(fs2))\n",
    "print(\"Symmetric Diffrerence: \", fs1.symmetric_difference(fs2))"
   ]
  },
  {
   "cell_type": "markdown",
   "id": "988d8595",
   "metadata": {},
   "source": [
    "𝗖𝗿𝗲𝗮𝘁𝗲 𝗮 𝘀𝗲𝘁 𝗼𝗳 𝗰𝗶𝘁𝗶𝗲𝘀 {“𝗟𝗮𝗵𝗼𝗿𝗲”, “𝗞𝗮𝗿𝗮𝗰𝗵𝗶”, “𝗜𝘀𝗹𝗮𝗺𝗮𝗯𝗮𝗱”}. 𝗨𝘀𝗲 𝗮 𝗹𝗼𝗼𝗽 𝘁𝗼 𝗰𝗵𝗲𝗰𝗸 𝗺𝗲𝗺𝗯𝗲𝗿𝘀𝗵𝗶𝗽. 𝗖𝗿𝗲𝗮𝘁𝗲 𝗮 𝗻𝗲𝘄 𝘀𝗲𝘁 𝗮𝗻𝗱 𝗰𝗵𝗲𝗰𝗸 isdisjoint()."
   ]
  },
  {
   "cell_type": "code",
   "execution_count": 12,
   "id": "2f2858f7",
   "metadata": {},
   "outputs": [
    {
     "name": "stdout",
     "output_type": "stream",
     "text": [
      "Lahore is in the set.\n",
      "Karachi is in the set.\n",
      "Islamabad is in the set.\n",
      "Is disjoint:  True\n"
     ]
    }
   ],
   "source": [
    "cities = {\"Lahore\", \"Karachi\", \"Islamabad\"}\n",
    "for c in cities:\n",
    "    print(f\"{c} is in the set.\")\n",
    "new_set = {\"Multan\", \"Peshawar\"}\n",
    "print(\"Is disjoint: \", cities.isdisjoint(new_set))"
   ]
  },
  {
   "cell_type": "markdown",
   "id": "a8d6365b",
   "metadata": {},
   "source": [
    "𝗧𝗮𝗸𝗲: setA = {1, 2, 3}, setB = {3, 4, 5}. 𝗣𝗲𝗿𝗳𝗼𝗿𝗺: setA | setB, setA & setB, setA - setB, setA ^ setB. 𝗘𝘅𝗽𝗹𝗮𝗶𝗻 𝗲𝗮𝗰𝗵 𝗼𝗽𝗲𝗿𝗮𝘁𝗼𝗿 𝗶𝗻 𝗰𝗼𝗺𝗺𝗲𝗻𝘁𝘀."
   ]
  },
  {
   "cell_type": "code",
   "execution_count": 13,
   "id": "96743320",
   "metadata": {},
   "outputs": [
    {
     "name": "stdout",
     "output_type": "stream",
     "text": [
      "{1, 2, 3, 4, 5}\n",
      "{3}\n",
      "{1, 2}\n",
      "{1, 2, 4, 5}\n"
     ]
    }
   ],
   "source": [
    "setA = {1, 2, 3}\n",
    "setB = {3, 4, 5}\n",
    "print(setA | setB)\n",
    "print(setA & setB)\n",
    "print(setA - setB)\n",
    "print(setA ^ setB)"
   ]
  },
  {
   "cell_type": "markdown",
   "id": "433cb72f",
   "metadata": {},
   "source": [
    "𝗔𝘀𝗸 𝘂𝘀𝗲𝗿 𝗳𝗼𝗿 𝗮 𝗹𝗶𝘀𝘁 𝗼𝗳 𝗶𝘁𝗲𝗺𝘀 𝗮𝘀 𝗶𝗻𝗽𝘂𝘁. 𝗖𝗼𝗻𝘃𝗲𝗿𝘁 𝘁𝗼 𝘀𝗲𝘁 (𝘁𝗼 𝗿𝗲𝗺𝗼𝘃𝗲 𝗱𝘂𝗽𝗹𝗶𝗰𝗮𝘁𝗲𝘀), 𝘁𝗵𝗲𝗻 𝗰𝗼𝗻𝘃𝗲𝗿𝘁 𝘁𝗼 frozenset. 𝗧𝗿𝘆 𝘁𝗼 𝗺𝗼𝗱𝗶𝗳𝘆 𝗶𝘁, 𝗰𝗮𝘁𝗰𝗵 𝗲𝗿𝗿𝗼𝗿, 𝗲𝘅𝗽𝗹𝗮𝗶𝗻 𝘄𝗵𝘆 frozenset 𝗶𝘀 𝗶𝗻𝗰𝗵𝗮𝗻𝗴𝗲𝗮𝗯𝗹𝗲"
   ]
  },
  {
   "cell_type": "code",
   "execution_count": 15,
   "id": "ca7667ab",
   "metadata": {},
   "outputs": [
    {
     "name": "stdout",
     "output_type": "stream",
     "text": [
      "Frozenset:  frozenset({'orange', 'banana', 'apple'})\n",
      "Error:  'frozenset' object has no attribute 'add'\n"
     ]
    }
   ],
   "source": [
    "items = input(\"Enter comma-seperated items: \").split(',')\n",
    "items_set = set(items)\n",
    "items_frozen = frozenset(items_set)\n",
    "print(\"Frozenset: \", items_frozen)\n",
    "try:\n",
    "    items_frozen.add('new')\n",
    "except AttributeError as e:\n",
    "    print(\"Error: \", e)"
   ]
  }
 ],
 "metadata": {
  "kernelspec": {
   "display_name": "Python 3",
   "language": "python",
   "name": "python3"
  },
  "language_info": {
   "codemirror_mode": {
    "name": "ipython",
    "version": 3
   },
   "file_extension": ".py",
   "mimetype": "text/x-python",
   "name": "python",
   "nbconvert_exporter": "python",
   "pygments_lexer": "ipython3",
   "version": "3.13.5"
  }
 },
 "nbformat": 4,
 "nbformat_minor": 5
}
