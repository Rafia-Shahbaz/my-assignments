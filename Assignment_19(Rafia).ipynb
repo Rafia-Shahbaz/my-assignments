{
  "nbformat": 4,
  "nbformat_minor": 0,
  "metadata": {
    "colab": {
      "provenance": [],
      "authorship_tag": "ABX9TyM/sDDhd4eMsmHJzwJBePR0",
      "include_colab_link": true
    },
    "kernelspec": {
      "name": "python3",
      "display_name": "Python 3"
    },
    "language_info": {
      "name": "python"
    }
  },
  "cells": [
    {
      "cell_type": "markdown",
      "metadata": {
        "id": "view-in-github",
        "colab_type": "text"
      },
      "source": [
        "<a href=\"https://colab.research.google.com/github/Rafia-Shahbaz/my-assignments/blob/main/Assignment_19(Rafia).ipynb\" target=\"_parent\"><img src=\"https://colab.research.google.com/assets/colab-badge.svg\" alt=\"Open In Colab\"/></a>"
      ]
    },
    {
      "cell_type": "markdown",
      "source": [
        "# **Metaclasses & Dataclasses**"
      ],
      "metadata": {
        "id": "hMcL_hJ3dt4c"
      }
    },
    {
      "cell_type": "markdown",
      "source": [
        "Use @dataclass to define a Person class with name, age, and email. Instantiate and display automatically generated _repr_() output."
      ],
      "metadata": {
        "id": "E5jai83xd050"
      }
    },
    {
      "cell_type": "code",
      "execution_count": null,
      "metadata": {
        "colab": {
          "base_uri": "https://localhost:8080/"
        },
        "id": "D_eyYmtPdYEU",
        "outputId": "6fce701b-5bd8-4c5f-b3d2-dea9458e1fa5"
      },
      "outputs": [
        {
          "output_type": "stream",
          "name": "stdout",
          "text": [
            "Person(name='Rafia', age=23, email='rafia@example.com')\n"
          ]
        }
      ],
      "source": [
        "from dataclasses import dataclass\n",
        "\n",
        "@dataclass\n",
        "class Person:\n",
        "    name: str\n",
        "    age: int\n",
        "    email: str\n",
        "person = Person(\"Rafia\", 23, \"rafia@example.com\")\n",
        "print(person)"
      ]
    },
    {
      "cell_type": "markdown",
      "source": [
        " Add default values to fields, and override _post_init_() to validate age > 0."
      ],
      "metadata": {
        "id": "1swACQb6eIxw"
      }
    },
    {
      "cell_type": "code",
      "source": [
        "@dataclass\n",
        "class Person:\n",
        "    name: str\n",
        "    age: int = 0\n",
        "    email: str = \"unknown@example.com\"\n",
        "    def __post_init__(self):\n",
        "        if self.age <= 0:\n",
        "            raise ValueError(\"Age must be greater than0\")\n",
        "person = Person(\"Rafia\", 23, \"rafia@example.com\")\n",
        "print(person)"
      ],
      "metadata": {
        "colab": {
          "base_uri": "https://localhost:8080/"
        },
        "id": "7RYJC94hhC4L",
        "outputId": "212c388b-6dd0-4181-da22-818c9c333970"
      },
      "execution_count": null,
      "outputs": [
        {
          "output_type": "stream",
          "name": "stdout",
          "text": [
            "Person(name='Rafia', age=23, email='rafia@example.com')\n"
          ]
        }
      ]
    },
    {
      "cell_type": "markdown",
      "source": [
        "Implement a Book dataclass with title and author, plus a classmethod from_dict() to create instances from dictionaries."
      ],
      "metadata": {
        "id": "pyBDlNoYehnb"
      }
    },
    {
      "cell_type": "code",
      "source": [
        "@dataclass\n",
        "class Book:\n",
        "    title: str\n",
        "    author: str\n",
        "    @classmethod\n",
        "    def from_dict(cls, book_dict):\n",
        "        return cls(book_dict[\"title\"], book_dict[\"author\"])\n",
        "book = Book.from_dict({\"title\": \"The Alchemist\", \"author\": \"Paulo Coelho\"})\n",
        "print(book)"
      ],
      "metadata": {
        "colab": {
          "base_uri": "https://localhost:8080/"
        },
        "id": "x3VZ9avXhuJX",
        "outputId": "29eea6b3-9a9f-4aaf-f96f-1a7d638f4942"
      },
      "execution_count": null,
      "outputs": [
        {
          "output_type": "stream",
          "name": "stdout",
          "text": [
            "Book(title='The Alchemist', author='Paulo Coelho')\n"
          ]
        }
      ]
    },
    {
      "cell_type": "markdown",
      "source": [
        "Define a metaclass TrackInstances that tracks all instances of classes using it, and apply to a sample class Tracker."
      ],
      "metadata": {
        "id": "y5lBRXHEemlo"
      }
    },
    {
      "cell_type": "code",
      "source": [
        "class TrackInstances(type):\n",
        "    instances = []\n",
        "    def __call__(cls, *args, **kwargs):\n",
        "        instance = super().__call__(*args, **kwargs)\n",
        "        cls.instances.append(instance)\n",
        "        return instance\n",
        "class Tracker(metaclass=TrackInstances):\n",
        "    pass\n",
        "tracker1 = Tracker()\n",
        "tracker2 = Tracker()\n",
        "print(TrackInstances.instances)"
      ],
      "metadata": {
        "colab": {
          "base_uri": "https://localhost:8080/"
        },
        "id": "hSFKVBxoiAdL",
        "outputId": "85bd0771-c38e-40c1-f3b3-7d2be23f7235"
      },
      "execution_count": null,
      "outputs": [
        {
          "output_type": "stream",
          "name": "stdout",
          "text": [
            "[<__main__.Tracker object at 0x7b394c24cad0>, <__main__.Tracker object at 0x7b394c24ce60>]\n"
          ]
        }
      ]
    },
    {
      "cell_type": "markdown",
      "source": [
        "Create two instances of Tracker and print a list of all tracked instances."
      ],
      "metadata": {
        "id": "DIrm56s7erfP"
      }
    },
    {
      "cell_type": "code",
      "source": [
        "t1 = Tracker()\n",
        "t2 = Tracker()\n",
        "print(TrackInstances.instances)"
      ],
      "metadata": {
        "colab": {
          "base_uri": "https://localhost:8080/"
        },
        "id": "5Fj5fdY3iOv1",
        "outputId": "b175e5d2-ac4c-4299-d26e-25a270004bea"
      },
      "execution_count": null,
      "outputs": [
        {
          "output_type": "stream",
          "name": "stdout",
          "text": [
            "[<__main__.Tracker object at 0x7b394c24cad0>, <__main__.Tracker object at 0x7b394c24ce60>, <__main__.Tracker object at 0x7b394c2653a0>, <__main__.Tracker object at 0x7b394c2650a0>]\n"
          ]
        }
      ]
    },
    {
      "cell_type": "markdown",
      "source": [
        "Demonstrate frozen=True in a dataclass ImmutablePoint(x, y) and illustrate behavior upon mutation attempt (should raise an error)."
      ],
      "metadata": {
        "id": "DNj_8uGrewOM"
      }
    },
    {
      "cell_type": "code",
      "source": [
        "@dataclass(frozen=True)\n",
        "class ImmutablePoint:\n",
        "    x: int\n",
        "    y: int\n",
        "point = ImmutablePoint(1, 2)\n",
        "print(point)"
      ],
      "metadata": {
        "colab": {
          "base_uri": "https://localhost:8080/"
        },
        "id": "m77EOdL0iX_i",
        "outputId": "762e15e7-30b5-4186-9684-98755ecc9099"
      },
      "execution_count": null,
      "outputs": [
        {
          "output_type": "stream",
          "name": "stdout",
          "text": [
            "ImmutablePoint(x=1, y=2)\n"
          ]
        }
      ]
    },
    {
      "cell_type": "markdown",
      "source": [
        " Use metaclass to auto-add a created_at timestamp attribute to any instance upon its creation."
      ],
      "metadata": {
        "id": "ESFKmPvXe3Fn"
      }
    },
    {
      "cell_type": "code",
      "source": [
        "import datetime\n",
        "class AutoTimestamp(type):\n",
        "    def __call__(cls, *args, **kwargs):\n",
        "        instance = super().__call__(*args, **kwargs)\n",
        "        instance.created_at = datetime.datetime.now()\n",
        "        return instance\n",
        "class Timestamped(metaclass=AutoTimestamp):\n",
        "    pass\n",
        "ts1 = Timestamped()\n",
        "ts2 = Timestamped()\n",
        "print(ts1.created_at)\n",
        "print(ts2.created_at)"
      ],
      "metadata": {
        "colab": {
          "base_uri": "https://localhost:8080/"
        },
        "id": "k-TLeb7UjFxf",
        "outputId": "720c091d-b612-4353-c707-52a9fd64a834"
      },
      "execution_count": null,
      "outputs": [
        {
          "output_type": "stream",
          "name": "stdout",
          "text": [
            "2025-08-28 12:00:20.531778\n",
            "2025-08-28 12:00:20.531837\n"
          ]
        }
      ]
    },
    {
      "cell_type": "markdown",
      "source": [
        "Create a dataclass Rectangle with width, height, and implement a area() method; override generated _eq_() for area-based equality."
      ],
      "metadata": {
        "id": "iuP4fq0Kfw49"
      }
    },
    {
      "cell_type": "code",
      "source": [
        "@dataclass\n",
        "class Rectangle:\n",
        "    width: int\n",
        "    height: int\n",
        "    def area(self):\n",
        "        return self.width * self.height\n",
        "    def __eq__(self, other):\n",
        "        return self.area() == other.area()\n",
        "other_rect = Rectangle(2, 3)\n",
        "rect = Rectangle(1, 6)\n",
        "print(rect == other_rect)\n"
      ],
      "metadata": {
        "colab": {
          "base_uri": "https://localhost:8080/"
        },
        "id": "toX14QAXjQGt",
        "outputId": "99ff6c2e-2b8b-440f-830e-c99a5731221f"
      },
      "execution_count": null,
      "outputs": [
        {
          "output_type": "stream",
          "name": "stdout",
          "text": [
            "True\n"
          ]
        }
      ]
    },
    {
      "cell_type": "markdown",
      "source": [
        " Use make_dataclass() from dataclasses module to dynamically create a class DynamicPerson with attributes first_name and last_name."
      ],
      "metadata": {
        "id": "BS5ZERqpfyQS"
      }
    },
    {
      "cell_type": "code",
      "source": [
        "from dataclasses import make_dataclass\n",
        "DynamicPerson = make_dataclass(\"DynamicPerson\", [\"first_name\", \"last_name\"])\n",
        "person = DynamicPerson(\"Rafia\", \"Shahbaz\")\n",
        "print(person)"
      ],
      "metadata": {
        "colab": {
          "base_uri": "https://localhost:8080/"
        },
        "id": "sN2HX-sajtqh",
        "outputId": "dd35394f-b8c4-44da-f3cd-6db72fe23731"
      },
      "execution_count": null,
      "outputs": [
        {
          "output_type": "stream",
          "name": "stdout",
          "text": [
            "DynamicPerson(first_name='Rafia', last_name='Shahbaz')\n"
          ]
        }
      ]
    },
    {
      "cell_type": "markdown",
      "source": [
        " Demonstrate runtime type-checking by inspecting _annotations_ of a dataclass."
      ],
      "metadata": {
        "id": "wdZ7A3NFf2il"
      }
    },
    {
      "cell_type": "code",
      "source": [
        "@dataclass\n",
        "class Student:\n",
        "    name: str\n",
        "    age: int\n",
        "print(Student.__annotations__)"
      ],
      "metadata": {
        "colab": {
          "base_uri": "https://localhost:8080/"
        },
        "id": "MSQhTzpBj2_v",
        "outputId": "3cd8f3d3-2aed-4d0b-9529-7540f1b6f694"
      },
      "execution_count": null,
      "outputs": [
        {
          "output_type": "stream",
          "name": "stdout",
          "text": [
            "{'name': <class 'str'>, 'age': <class 'int'>}\n"
          ]
        }
      ]
    }
  ]
}