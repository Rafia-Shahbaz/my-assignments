{
 "cells": [
  {
   "cell_type": "markdown",
   "id": "09a6b0f4",
   "metadata": {},
   "source": [
    "#𝗖𝗿𝗲𝗮𝘁𝗲 𝗮 𝗹𝗶𝘀𝘁 𝗼𝗳 𝟯 𝗳𝗹𝗼𝗮𝘁 𝗻𝘂𝗺𝗯𝗲𝗿𝘀 𝗮𝘀 𝘀𝘁𝗿𝗶𝗻𝗴𝘀 (𝗲.𝗴. [\"𝟭.𝟱\", \"𝟮.𝟴\", \"𝟯.𝟬\"]). 𝗖𝗼𝗻𝘃𝗲𝗿𝘁 𝗲𝗮𝗰𝗵 𝘁𝗼 float 𝗮𝗻𝗱 𝗽𝗿𝗶𝗻𝘁 the 𝘀𝘂𝗺."
   ]
  },
  {
   "cell_type": "code",
   "execution_count": 22,
   "id": "fc5878c6",
   "metadata": {},
   "outputs": [
    {
     "name": "stdout",
     "output_type": "stream",
     "text": [
      "sum: 7.3\n"
     ]
    }
   ],
   "source": [
    "numbers = [\"1.5\", \"2.8\", \"3.0\"]\n",
    "total = 0\n",
    "for num in numbers:\n",
    "    total += float(num)\n",
    "print(\"sum:\", total)"
   ]
  },
  {
   "cell_type": "markdown",
   "id": "6fef3d0c",
   "metadata": {},
   "source": [
    "#𝗧𝗮𝗸𝗲 𝘂𝘀𝗲𝗿 𝗶𝗻𝗽𝘂𝘁 𝗳𝗼𝗿 𝗮 𝗻𝘂𝗺𝗯𝗲𝗿. 𝗖𝗵𝗲𝗰𝗸 𝘄𝗵𝗲𝘁𝗵𝗲𝗿 𝗶𝘁 𝗶𝘀 𝗽𝗼𝘀𝗶𝘁𝗶𝘃𝗲, 𝗻𝗲𝗴𝗮𝘁𝗶𝘃𝗲, 𝗼𝗿 𝘇𝗲𝗿𝗼 𝘂𝘀𝗶𝗻𝗴 if-elif-else."
   ]
  },
  {
   "cell_type": "code",
   "execution_count": 5,
   "id": "b625333a",
   "metadata": {},
   "outputs": [
    {
     "name": "stdout",
     "output_type": "stream",
     "text": [
      "Positive:\n"
     ]
    }
   ],
   "source": [
    "num = int(input(\"Enter a number: \"))\n",
    "if num > 0:\n",
    "   print(\"Positive:\")\n",
    "elif num < 0:\n",
    "     print(\"Negative:\")\n",
    "else:\n",
    "   print(\"Zero:\")"
   ]
  },
  {
   "cell_type": "markdown",
   "id": "13437e72",
   "metadata": {},
   "source": [
    "# 𝗧𝗮𝗸𝗲 𝘁𝘄𝗼 𝘀𝘁𝗿𝗶𝗻𝗴 𝗻𝘂𝗺𝗯𝗲𝗿𝘀 𝗮𝘀 𝗶𝗻𝗽𝘂𝘁 𝗳𝗿𝗼𝗺 𝘁𝗵𝗲 𝘂𝘀𝗲𝗿. 𝗖𝗼𝗻𝘃𝗲𝗿𝘁 𝘁𝗼 int, 𝗮𝗱𝗱 𝘁𝗵𝗲𝗺, 𝗮𝗻𝗱 𝗽𝗿𝗶𝗻𝘁 𝘁𝗵𝗲 𝗿𝗲𝘀𝘂𝗹𝘁 𝘄𝗶𝘁𝗵 𝘁𝘆𝗽𝗲."
   ]
  },
  {
   "cell_type": "code",
   "execution_count": 12,
   "id": "16a41434",
   "metadata": {},
   "outputs": [
    {
     "name": "stdout",
     "output_type": "stream",
     "text": [
      "Result: 112: Type: <class 'int'>\n"
     ]
    }
   ],
   "source": [
    "num1 = input(\"Enter first number: \")\n",
    "num2 = input(\"Enter second number: \")\n",
    "result = int(num1) + int(num2)\n",
    "print(f\"Result: {result}: Type: {type(result)}\")"
   ]
  },
  {
   "cell_type": "markdown",
   "id": "ad732f37",
   "metadata": {},
   "source": [
    "#𝗗𝗲𝗳𝗶𝗻𝗲 𝗮 𝗹𝗶𝘀𝘁 𝗼𝗳 𝗺𝗶𝘅𝗲𝗱 𝘁𝘆𝗽𝗲𝘀 (𝗲.𝗴. [\"𝟱\", 𝟴, 𝟭𝟬.𝟱, 𝗧𝗿𝘂𝗲]). 𝗨𝘀𝗲 𝗮 𝗹𝗼𝗼𝗽 𝘁𝗼 𝗰𝗼𝗻𝘃𝗲𝗿𝘁 𝘀𝘁𝗿𝗶𝗻𝗴𝘀 𝗶𝗻𝘁𝗼 𝗶𝗻𝘁𝗲𝗴𝗲𝗿𝘀."
   ]
  },
  {
   "cell_type": "code",
   "execution_count": 11,
   "id": "18703231",
   "metadata": {},
   "outputs": [
    {
     "name": "stdout",
     "output_type": "stream",
     "text": [
      "[5, 8, 10.5, True]\n"
     ]
    }
   ],
   "source": [
    "items = [\"5\", 8, 10.5, True]\n",
    "for i in range(len(items)):\n",
    "    if type(items[i]) == str:\n",
    "        items[i] = int(items[i])\n",
    "print(items)"
   ]
  },
  {
   "cell_type": "markdown",
   "id": "a8c5e843",
   "metadata": {},
   "source": [
    "#𝗧𝗮𝗸𝗲 𝘂𝘀𝗲𝗿 𝗶𝗻𝗽𝘂𝘁 𝗳𝗼𝗿 𝟯 𝗺𝗮𝗿𝗸𝘀 (𝗮𝘀 𝘀𝘁𝗿𝗶𝗻𝗴𝘀), 𝗰𝗼𝗻𝘃𝗲𝗿𝘁 𝘁𝗼 int, 𝗮𝗻𝗱 𝗽𝗿𝗶𝗻𝘁 𝘁𝗵𝗲 𝘁𝗼𝘁𝗮𝗹 𝗮𝗻𝗱 𝗽𝗲𝗿𝗰𝗲𝗻𝘁𝗮𝗴𝗲."
   ]
  },
  {
   "cell_type": "code",
   "execution_count": 15,
   "id": "7c764d67",
   "metadata": {},
   "outputs": [
    {
     "name": "stdout",
     "output_type": "stream",
     "text": [
      "Total:  229\n",
      "Percentage:  76.33333333333333\n"
     ]
    }
   ],
   "source": [
    "mark1 = int(input(\"Enter mark: \"))\n",
    "mark2 = int(input(\"Enter mark: \"))\n",
    "mark3 = int(input(\"Enter mark: \"))\n",
    "total = mark1 + mark2 + mark3\n",
    "percentage = (total / 300) * 100\n",
    "print(\"Total: \", total) \n",
    "print(\"Percentage: \", percentage)"
   ]
  },
  {
   "cell_type": "markdown",
   "id": "e35be40f",
   "metadata": {},
   "source": [
    "#𝗖𝗿𝗲𝗮𝘁𝗲 𝗮 𝘀𝘁𝗿𝗶𝗻𝗴 𝘃𝗮𝗿𝗶𝗮𝗯𝗹𝗲 𝗼𝗳 𝗮 𝗳𝗹𝗼𝗮𝘁 𝘃𝗮𝗹𝘂𝗲 (𝗲.𝗴. \"𝟰.𝟮\"). 𝗖𝗼𝗻𝘃𝗲𝗿𝘁 𝘁𝗼 float, 𝗺𝘂𝗹𝘁𝗶𝗽𝗹𝘆 𝗯𝘆 𝟮, 𝗮𝗻𝗱 𝗰𝗵𝗲𝗰𝗸 𝗶𝗳 𝗿𝗲𝘀𝘂𝗹𝘁 > 𝟱."
   ]
  },
  {
   "cell_type": "code",
   "execution_count": 16,
   "id": "caa7203e",
   "metadata": {},
   "outputs": [
    {
     "name": "stdout",
     "output_type": "stream",
     "text": [
      "Result:  112\n",
      "Greater than 5: \n"
     ]
    }
   ],
   "source": [
    "value = \"4.2\"\n",
    "resulte = float(value) * 2\n",
    "print(\"Result: \", result)\n",
    "if result > 5:\n",
    "    print(\"Greater than 5: \")\n",
    "else:\n",
    "    print(\"Not greater than 5: \")"
   ]
  },
  {
   "cell_type": "markdown",
   "id": "d4a8fe10",
   "metadata": {},
   "source": [
    "#𝗖𝗿𝗲𝗮𝘁𝗲 𝗮 𝗹𝗶𝘀𝘁 𝗼𝗳 𝟰 𝗺𝗮𝗿𝗸𝘀 (𝗮𝘀 𝘀𝘁𝗿𝗶𝗻𝗴𝘀). 𝗨𝘀𝗲 for 𝗹𝗼𝗼𝗽 𝘁𝗼 𝗰𝗼𝗻𝘃𝗲𝗿𝘁 𝗮𝗻𝗱 𝗰𝗵𝗲𝗰𝗸 𝗳𝗼𝗿 𝗽𝗮𝘀𝘀 𝗼𝗿 𝗳𝗮𝗶𝗹 (𝗺𝗮𝗿𝗸 >= 𝟱𝟬)."
   ]
  },
  {
   "cell_type": "code",
   "execution_count": 18,
   "id": "3ec397e1",
   "metadata": {},
   "outputs": [
    {
     "name": "stdout",
     "output_type": "stream",
     "text": [
      "65 Pass\n",
      "42 Fail\n",
      "90 Pass\n",
      "38 Fail\n"
     ]
    }
   ],
   "source": [
    "marks = [\"65\", \"42\", \"90\", \"38\"]\n",
    "for mark in marks:\n",
    "    mark = int(mark)\n",
    "    if mark >= 50:\n",
    "        print(mark, \"Pass\")\n",
    "    else:\n",
    "        print(mark, \"Fail\")"
   ]
  },
  {
   "cell_type": "markdown",
   "id": "3ca318b8",
   "metadata": {},
   "source": [
    "#𝗧𝗮𝗸𝗲 𝘂𝘀𝗲𝗿 𝗶𝗻𝗽𝘂𝘁 𝗼𝗳 𝗲𝗺𝗮𝗶𝗹 𝗮𝗻𝗱 𝗰𝗵𝗲𝗰𝗸 𝗶𝗳 𝗶𝘁 𝗰𝗼𝗻𝘁𝗮𝗶𝗻𝘀 \"@\" 𝘂𝘀𝗶𝗻𝗴 in. 𝗣𝗿𝗶𝗻𝘁 𝘃𝗮𝗹𝗶𝗱 𝗼𝗿 𝗶𝗻𝘃𝗮𝗹𝗶𝗱."
   ]
  },
  {
   "cell_type": "code",
   "execution_count": 19,
   "id": "1a4ff80a",
   "metadata": {},
   "outputs": [
    {
     "name": "stdout",
     "output_type": "stream",
     "text": [
      "Valid email: \n"
     ]
    }
   ],
   "source": [
    "email = input(\"Enter your email: \")\n",
    "if \"@\" in email:\n",
    "    print(\"Valid email: \")\n",
    "else:\n",
    "    print(\"Invalid email: \")"
   ]
  },
  {
   "cell_type": "markdown",
   "id": "5dc94e38",
   "metadata": {},
   "source": [
    "#𝗧𝗮𝗸𝗲 𝘂𝘀𝗲𝗿 𝗶𝗻𝗽𝘂𝘁 𝗼𝗳 𝗮 𝘀𝗲𝗻𝘁𝗲𝗻𝗰𝗲. 𝗖𝗼𝘂𝗻𝘁 𝗵𝗼𝘄 𝗺𝗮𝗻𝘆 𝘁𝗶𝗺𝗲𝘀 𝘁𝗵𝗲 𝘄𝗼𝗿𝗱 \"the\" 𝗮𝗽𝗽𝗲𝗮𝗿𝘀."
   ]
  },
  {
   "cell_type": "code",
   "execution_count": 20,
   "id": "bc055920",
   "metadata": {},
   "outputs": [
    {
     "name": "stdout",
     "output_type": "stream",
     "text": [
      "Count of 'the':  2\n"
     ]
    }
   ],
   "source": [
    "sentence = input(\"Enter a sentence: \")\n",
    "words = sentence.lower().split()\n",
    "count = words.count(\"the\")\n",
    "print(\"Count of 'the': \", count)"
   ]
  },
  {
   "cell_type": "markdown",
   "id": "f4eac820",
   "metadata": {},
   "source": [
    "#𝗠𝗮𝗸𝗲 𝗮 𝗹𝗶𝘀𝘁 𝗼𝗳 𝗻𝘂𝗺𝗯𝗲𝗿𝘀 𝗳𝗿𝗼𝗺 𝟭 𝘁𝗼 𝟭𝟬 (𝗮𝘀 𝘀𝘁𝗿𝗶𝗻𝗴𝘀). 𝗖𝗼𝗻𝘃𝗲𝗿𝘁 𝘁𝗼 int, 𝗳𝗶𝗹𝘁𝗲𝗿 𝗼𝗻𝗹𝘆 𝗲𝘃𝗲𝗻 𝗻𝘂𝗺𝗯𝗲𝗿𝘀, 𝗮𝗻𝗱 𝗽𝗿𝗶𝗻𝘁 𝘁𝗵𝗲𝗺"
   ]
  },
  {
   "cell_type": "code",
   "execution_count": 21,
   "id": "a3e17069",
   "metadata": {},
   "outputs": [
    {
     "name": "stdout",
     "output_type": "stream",
     "text": [
      "2\n",
      "4\n",
      "6\n",
      "8\n",
      "10\n"
     ]
    }
   ],
   "source": [
    "numbers = [\"1\", \"2\", \"3\", \"4\", \"5\", \"6\", \"7\", \"8\", \"9\", \"10\"]\n",
    "for num in numbers:\n",
    "    num = int(num)\n",
    "    if num % 2 == 0:\n",
    "        print(num)"
   ]
  }
 ],
 "metadata": {
  "kernelspec": {
   "display_name": "Python 3",
   "language": "python",
   "name": "python3"
  },
  "language_info": {
   "codemirror_mode": {
    "name": "ipython",
    "version": 3
   },
   "file_extension": ".py",
   "mimetype": "text/x-python",
   "name": "python",
   "nbconvert_exporter": "python",
   "pygments_lexer": "ipython3",
   "version": "3.13.5"
  }
 },
 "nbformat": 4,
 "nbformat_minor": 5
}
