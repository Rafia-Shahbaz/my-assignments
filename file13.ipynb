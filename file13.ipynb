{
 "cells": [
  {
   "cell_type": "markdown",
   "id": "1e85bce5",
   "metadata": {},
   "source": [
    "#𝗖𝗿𝗲𝗮𝘁𝗲 𝗮 𝗳𝗶𝗹𝗲 𝗻𝗮𝗺𝗲𝗱 data.txt, 𝘄𝗿𝗶𝘁𝗲 𝟯 𝗹𝗶𝗻𝗲𝘀 𝗼𝗳 𝘁𝗲𝘅𝘁 𝗶𝗻 𝗶𝘁 𝘂𝘀𝗶𝗻𝗴 write mode, 𝘁𝗵𝗲𝗻 𝗰𝗹𝗼𝘀𝗲 𝘁𝗵𝗲 𝗳𝗶𝗹𝗲."
   ]
  },
  {
   "cell_type": "code",
   "execution_count": 3,
   "id": "5681d20c",
   "metadata": {},
   "outputs": [],
   "source": [
    "file = open(\"data.txt\", \"w\")\n",
    "file.write(\"This is line one. \\n\")\n",
    "file.write(\"This is line two. \\n\")\n",
    "file.write(\"This is line three. \\n\")\n",
    "file.close()"
   ]
  },
  {
   "cell_type": "markdown",
   "id": "5fa36cc4",
   "metadata": {},
   "source": [
    "#𝗢𝗽𝗲𝗻 data.txt 𝗶𝗻 read mode, 𝗿𝗲𝗮𝗱 𝗮𝗹𝗹 𝗹𝗶𝗻𝗲𝘀, 𝗮𝗻𝗱 𝗽𝗿𝗶𝗻𝘁 𝗲𝗮𝗰𝗵 𝗹𝗶𝗻𝗲 𝗼𝗻𝗲 𝗯𝘆 𝗼𝗻𝗲."
   ]
  },
  {
   "cell_type": "code",
   "execution_count": 4,
   "id": "97a4e400",
   "metadata": {},
   "outputs": [
    {
     "name": "stdout",
     "output_type": "stream",
     "text": [
      "This is line one.\n",
      "This is line two.\n",
      "This is line three.\n"
     ]
    }
   ],
   "source": [
    "file = open(\"data.txt\", \"r\")\n",
    "for line in file:\n",
    "    print(line.strip())\n",
    "file.close()"
   ]
  },
  {
   "cell_type": "markdown",
   "id": "4909eb25",
   "metadata": {},
   "source": [
    "#𝗨𝘀𝗲 readlines() 𝘁𝗼 𝗿𝗲𝗮𝗱 𝗮𝗹𝗹 𝗹𝗶𝗻𝗲𝘀 𝗮𝗻𝗱 𝗽𝗿𝗶𝗻𝘁 𝗲𝗮𝗰𝗵 𝗹𝗶𝗻𝗲 𝘄𝗶𝘁𝗵 𝗶𝘁𝘀 𝗹𝗶𝗻𝗲 𝗻𝘂𝗺𝗯𝗲𝗿."
   ]
  },
  {
   "cell_type": "code",
   "execution_count": 6,
   "id": "f72712e1",
   "metadata": {},
   "outputs": [
    {
     "name": "stdout",
     "output_type": "stream",
     "text": [
      "Line 1: This is line one.\n",
      "Line 2: This is line two.\n",
      "Line 3: This is line three.\n"
     ]
    }
   ],
   "source": [
    "file = open(\"data.txt\", \"r\")\n",
    "lines = file.readlines()\n",
    "for index, line in enumerate(lines, start=1):\n",
    "    print(f\"Line {index}: {line.strip()}\")\n",
    "file.close()"
   ]
  },
  {
   "cell_type": "markdown",
   "id": "79b06f49",
   "metadata": {},
   "source": [
    "#𝗢𝗽𝗲𝗻 data.txt 𝗶𝗻 append mode, 𝗮𝗱𝗱 𝗮 𝗻𝗲𝘄 𝗹𝗶𝗻𝗲, 𝘁𝗵𝗲𝗻 𝗿𝗲𝗮𝗱 𝗮𝗻𝗱 𝗽𝗿𝗶𝗻𝘁 𝘁𝗵𝗲 𝘂𝗽𝗱𝗮𝘁𝗲𝗱 𝗰𝗼𝗻𝘁𝗲𝗻𝘁."
   ]
  },
  {
   "cell_type": "code",
   "execution_count": 7,
   "id": "2b78708a",
   "metadata": {},
   "outputs": [
    {
     "name": "stdout",
     "output_type": "stream",
     "text": [
      "This is line one. \n",
      "This is line two. \n",
      "This is line three. \n",
      "This is the new appended line. \n",
      "\n"
     ]
    }
   ],
   "source": [
    "file = open(\"data.txt\", \"a\")\n",
    "file.write(\"This is the new appended line. \\n\")\n",
    "file.close()\n",
    "file = open(\"data.txt\", \"r\")\n",
    "print(file.read())\n",
    "file.close()"
   ]
  },
  {
   "cell_type": "markdown",
   "id": "49e0267a",
   "metadata": {},
   "source": [
    "#𝗨𝘀𝗲 with open() 𝘀𝘁𝗮𝘁𝗲𝗺𝗲𝗻𝘁 𝘁𝗼 𝗼𝗽𝗲𝗻 𝘁𝗵𝗲 𝗳𝗶𝗹𝗲 𝗶𝗻 read mode, 𝗮𝗻𝗱 𝘂𝘀𝗲 𝗮 𝗹𝗼𝗼𝗽 𝘁𝗼 𝗽𝗿𝗶𝗻𝘁 𝗲𝗮𝗰𝗵 𝗹𝗶𝗻𝗲 𝘄𝗶𝘁𝗵 𝗻𝘂𝗺𝗯𝗲𝗿𝘀."
   ]
  },
  {
   "cell_type": "code",
   "execution_count": 8,
   "id": "3ff700a5",
   "metadata": {},
   "outputs": [
    {
     "name": "stdout",
     "output_type": "stream",
     "text": [
      "1: This is line one.\n",
      "2: This is line two.\n",
      "3: This is line three.\n",
      "4: This is the new appended line.\n"
     ]
    }
   ],
   "source": [
    "with open(\"data.txt\", \"r\") as file:\n",
    "    for num, line in enumerate(file, start=1):\n",
    "        print(f\"{num}: {line.strip()}\")"
   ]
  },
  {
   "cell_type": "markdown",
   "id": "48fa9b36",
   "metadata": {},
   "source": [
    "#𝗖𝗿𝗲𝗮𝘁𝗲 numbers.txt, 𝘄𝗿𝗶𝘁𝗲 𝗻𝘂𝗺𝗯𝗲𝗿𝘀 𝟭 𝘁𝗼 𝟭𝟬 (𝗼𝗻𝗲 𝗽𝗲𝗿 𝗹𝗶𝗻𝗲), 𝗿𝗲𝗮𝗱 𝗳𝗶𝗹𝗲 𝗮𝗻𝗱 𝗽𝗿𝗶𝗻𝘁 𝘁𝗵𝗲 𝘀𝘂𝗺 𝗼𝗳 𝗮𝗹𝗹 𝗻𝘂𝗺𝗯𝗲𝗿𝘀."
   ]
  },
  {
   "cell_type": "code",
   "execution_count": 9,
   "id": "2aaf7208",
   "metadata": {},
   "outputs": [
    {
     "name": "stdout",
     "output_type": "stream",
     "text": [
      "sum of numbers: 55\n"
     ]
    }
   ],
   "source": [
    "with open(\"numbers.txt\", \"w\") as file:\n",
    "    for i in range(1, 11):\n",
    "        file.write(f\"{i}\\n\")\n",
    "total = 0\n",
    "with open(\"numbers.txt\", \"r\") as file:\n",
    "     for line in file:\n",
    "         total += int(line.strip())\n",
    "print(\"sum of numbers:\", total)"
   ]
  },
  {
   "cell_type": "markdown",
   "id": "521367e9",
   "metadata": {},
   "source": [
    "#𝗖𝗿𝗲𝗮𝘁𝗲 even_numbers.txt 𝗮𝗻𝗱 𝘄𝗿𝗶𝘁𝗲 𝗮𝗹𝗹 𝗲𝘃𝗲𝗻 𝗻𝘂𝗺𝗯𝗲𝗿𝘀 𝗳𝗿𝗼𝗺 𝟭 𝘁𝗼 𝟱𝟬 𝘂𝘀𝗶𝗻𝗴 𝗮 𝗹𝗼𝗼𝗽."
   ]
  },
  {
   "cell_type": "code",
   "execution_count": 10,
   "id": "43547148",
   "metadata": {},
   "outputs": [],
   "source": [
    "with open(\"even_numbers.txt\", \"w\") as file:\n",
    "    for num in range(2, 51, 2):\n",
    "        file.write(f\"{num}\\n\")\n"
   ]
  },
  {
   "cell_type": "markdown",
   "id": "b7f022e1",
   "metadata": {},
   "source": [
    "#𝗖𝗿𝗲𝗮𝘁𝗲 students.txt 𝗮𝗻𝗱 𝘄𝗿𝗶𝘁𝗲 𝗻𝗮𝗺𝗲𝘀 𝗼𝗳 𝘀𝘁𝘂𝗱𝗲𝗻𝘁𝘀. 𝗥𝗲𝗮𝗱 𝗳𝗶𝗹𝗲, 𝗽𝗿𝗶𝗻𝘁 𝗻𝗮𝗺𝗲𝘀 𝘄𝗶𝘁𝗵 𝗰𝗵𝗮𝗿𝗮𝗰𝘁𝗲𝗿 𝗰𝗼𝘂𝗻𝘁 𝘂𝘀𝗶𝗻𝗴 len()."
   ]
  },
  {
   "cell_type": "code",
   "execution_count": 12,
   "id": "897ec23e",
   "metadata": {},
   "outputs": [
    {
     "name": "stdout",
     "output_type": "stream",
     "text": [
      "Ayesha - 6 characters\n",
      "Ahmad - 5 characters\n",
      "Noor - 4 characters\n"
     ]
    }
   ],
   "source": [
    "with open(\"student.txt\", \"w\") as file:\n",
    "    file.write(\"Ayesha\\n\")\n",
    "    file.write(\"Ahmad\\n\")\n",
    "    file.write(\"Noor\\n\")\n",
    "with open(\"student.txt\", \"r\") as file:\n",
    "    for name in file:\n",
    "        name = name.strip()\n",
    "        print(f\"{name} - {len(name)} characters\")"
   ]
  },
  {
   "cell_type": "markdown",
   "id": "7a997d55",
   "metadata": {},
   "source": [
    "# 𝗥𝗲𝗮𝗱 info.txt, 𝗰𝗵𝗲𝗰𝗸 𝗶𝗳 \"Python\" 𝗲𝘅𝗶𝘀𝘁𝘀. 𝗜𝗳 𝘁𝗿𝘂𝗲, 𝗽𝗿𝗶𝗻𝘁 \"Python found\", 𝗲𝗹𝘀𝗲 𝗽𝗿𝗶𝗻𝘁 \"Not found\"."
   ]
  },
  {
   "cell_type": "code",
   "execution_count": 15,
   "id": "6dd2378a",
   "metadata": {},
   "outputs": [
    {
     "name": "stdout",
     "output_type": "stream",
     "text": [
      "Python found\n"
     ]
    }
   ],
   "source": [
    "with open(\"info.txt\", \"w\") as file:\n",
    "    file.write(\"Python is awesome! \\nLearning it is fun.\")\n",
    "with open(\"info.txt\", \"r\") as file:\n",
    "    content = file.read()\n",
    "if \"Python\" in content:\n",
    "    print(\"Python found\")\n",
    "else:\n",
    "    print(\"Not found\")"
   ]
  },
  {
   "cell_type": "markdown",
   "id": "235380b7",
   "metadata": {},
   "source": [
    "#𝗥𝗲𝗮𝗱 𝗮 𝗳𝗶𝗹𝗲, 𝗰𝗼𝗻𝘃𝗲𝗿𝘁 𝗮𝗹𝗹 𝘁𝗲𝘅𝘁 𝘁𝗼 uppercase, 𝘄𝗿𝗶𝘁𝗲 𝘁𝗼 output.txt."
   ]
  },
  {
   "cell_type": "code",
   "execution_count": 16,
   "id": "35de173c",
   "metadata": {},
   "outputs": [],
   "source": [
    "with open(\"data.txt\", \"r\") as infile:\n",
    "    content = infile.read().upper()\n",
    "with open(\"output.txt\", \"w\") as outfile:\n",
    "    outfile.write(content)"
   ]
  }
 ],
 "metadata": {
  "kernelspec": {
   "display_name": "Python 3",
   "language": "python",
   "name": "python3"
  },
  "language_info": {
   "codemirror_mode": {
    "name": "ipython",
    "version": 3
   },
   "file_extension": ".py",
   "mimetype": "text/x-python",
   "name": "python",
   "nbconvert_exporter": "python",
   "pygments_lexer": "ipython3",
   "version": "3.13.5"
  }
 },
 "nbformat": 4,
 "nbformat_minor": 5
}
