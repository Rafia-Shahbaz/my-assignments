{
 "cells": [
  {
   "cell_type": "code",
   "execution_count": null,
   "id": "d0199d1e",
   "metadata": {},
   "outputs": [],
   "source": [
    "#Take user input for their full name. Print how many characters are in the name using lin()."
   ]
  },
  {
   "cell_type": "code",
   "execution_count": 2,
   "id": "70ba1a86",
   "metadata": {},
   "outputs": [
    {
     "name": "stdout",
     "output_type": "stream",
     "text": [
      "Total characters: 6\n"
     ]
    }
   ],
   "source": [
    "full_name = input(\"Enter yuor full name: \")\n",
    "print(\"Total characters:\", len(full_name))"
   ]
  },
  {
   "cell_type": "markdown",
   "id": "5f4398af",
   "metadata": {},
   "source": [
    "#Create a list of 5 names. Print only the names that have more than 5 characters."
   ]
  },
  {
   "cell_type": "code",
   "execution_count": 4,
   "id": "d204d372",
   "metadata": {},
   "outputs": [
    {
     "name": "stdout",
     "output_type": "stream",
     "text": [
      "Fatima\n",
      "Zainab\n"
     ]
    }
   ],
   "source": [
    "names = [\"Rafia\", \"Fatima\", \"Noor\", \"Zainab\"]\n",
    "for name in names:\n",
    "    if len(name) > 5:\n",
    "        print(name)"
   ]
  },
  {
   "cell_type": "markdown",
   "id": "22a752a7",
   "metadata": {},
   "source": [
    "#Ask the user to enter a sentence. Convert it to lowercase and check if the word \"Python\" is present."
   ]
  },
  {
   "cell_type": "code",
   "execution_count": 7,
   "id": "3c0096b2",
   "metadata": {},
   "outputs": [
    {
     "name": "stdout",
     "output_type": "stream",
     "text": [
      "Yes, 'python' is present.\n"
     ]
    }
   ],
   "source": [
    "sentence = input(\"Enter a sentence: \").lower()\n",
    "if \"python\" in sentence:\n",
    "    print(\"Yes, 'python' is present.\")\n",
    "else:\n",
    "    print(\"No, 'python' is not present.\")"
   ]
  },
  {
   "cell_type": "markdown",
   "id": "901d10a3",
   "metadata": {},
   "source": [
    "#Create a list of numbers. Print only the numbers that are divisible by 3."
   ]
  },
  {
   "cell_type": "code",
   "execution_count": 8,
   "id": "ce37e916",
   "metadata": {},
   "outputs": [
    {
     "name": "stdout",
     "output_type": "stream",
     "text": [
      "3\n",
      "12\n",
      "9\n",
      "18\n"
     ]
    }
   ],
   "source": [
    "numbers = [3, 7, 12, 9, 14, 20, 18]\n",
    "for num in numbers:\n",
    "    if num % 3 == 0:\n",
    "        print(num)"
   ]
  },
  {
   "cell_type": "markdown",
   "id": "166c2cca",
   "metadata": {},
   "source": [
    "#Take an input number. Use if-elif-else to check whether it's positive, negative, or zero."
   ]
  },
  {
   "cell_type": "code",
   "execution_count": 11,
   "id": "d15f96b0",
   "metadata": {},
   "outputs": [
    {
     "name": "stdout",
     "output_type": "stream",
     "text": [
      "Positive: \n"
     ]
    }
   ],
   "source": [
    "num = int(input(\"Enter a number: \"))\n",
    "if num > 0:\n",
    "    print(\"Positive: \")\n",
    "elif num< 0:\n",
    "    print(\"Negitve: \")\n",
    "else:\n",
    "    print(\"Zero: \")"
   ]
  },
  {
   "cell_type": "markdown",
   "id": "2c21a698",
   "metadata": {},
   "source": [
    "#Take two input numbers and print their GREATER on using if-else."
   ]
  },
  {
   "cell_type": "code",
   "execution_count": 12,
   "id": "bc167eb7",
   "metadata": {},
   "outputs": [
    {
     "name": "stdout",
     "output_type": "stream",
     "text": [
      "Greater number: 21.8\n"
     ]
    }
   ],
   "source": [
    "a = float(input(\"Enter first number: \"))\n",
    "b = float(input(\"Enter second number: \"))\n",
    "if a > b:\n",
    "    print(\"Greater number:\", a)\n",
    "else:\n",
    "    print(\"Greater number:\", b)"
   ]
  },
  {
   "cell_type": "markdown",
   "id": "338191ac",
   "metadata": {},
   "source": [
    "Create a list of cities.Add a new city as input from the user and print the updated list."
   ]
  },
  {
   "cell_type": "code",
   "execution_count": 13,
   "id": "d96166c3",
   "metadata": {},
   "outputs": [
    {
     "name": "stdout",
     "output_type": "stream",
     "text": [
      "Updated list of cities: ['Paris', 'Lahore', 'Karachi', 'Gujranwala']\n"
     ]
    }
   ],
   "source": [
    "cities = [\"Paris\", \"Lahore\", \"Karachi\"]\n",
    "new_city = input(\"Enter a city: \")\n",
    "cities.append(new_city)\n",
    "print(\"Updated list of cities:\", cities)"
   ]
  },
  {
   "cell_type": "markdown",
   "id": "c834839c",
   "metadata": {},
   "source": [
    "Create a list of 5 words. Print each words on a new line in reverse order."
   ]
  },
  {
   "cell_type": "code",
   "execution_count": 15,
   "id": "e2e52f6c",
   "metadata": {},
   "outputs": [
    {
     "name": "stdout",
     "output_type": "stream",
     "text": [
      "pineapple\n",
      "kiwi\n",
      "cherry\n",
      "grape\n",
      "apple\n"
     ]
    }
   ],
   "source": [
    "words = [\"apple\", \"grape\", \"cherry\", \"kiwi\", \"pineapple\"]\n",
    "for word in reversed(words):\n",
    "    print(word)"
   ]
  },
  {
   "cell_type": "markdown",
   "id": "09320054",
   "metadata": {},
   "source": [
    "#Take user input of three marks. Calculate total, average, and grade (A/B/C/Fail)."
   ]
  },
  {
   "cell_type": "code",
   "execution_count": 18,
   "id": "4a7b120e",
   "metadata": {},
   "outputs": [
    {
     "name": "stdout",
     "output_type": "stream",
     "text": [
      "226\n",
      "75.33333333333333\n",
      "B\n"
     ]
    }
   ],
   "source": [
    "m1 = int(input(\"Enter marks: \"))\n",
    "m2 = int(input(\"Enter mark: \"))\n",
    "m3 = int(input(\"Enter mark: \"))\n",
    "total = m1 + m2 + m3\n",
    "average = total / 3\n",
    "if average >= 80:\n",
    "    grade = \"A\"\n",
    "elif average >= 70:\n",
    "    grade = \"B\"\n",
    "elif average >= 60:\n",
    "    grade = \"C\"\n",
    "else:\n",
    "    grade = \"Fail\"\n",
    "print(total)\n",
    "print(average)\n",
    "print(grade)"
   ]
  },
  {
   "cell_type": "markdown",
   "id": "409d194b",
   "metadata": {},
   "source": [
    "#Create a list of fruits. Check if \"apple\" is in the list. Print \"Found\" or \"Not Fuond\"."
   ]
  },
  {
   "cell_type": "code",
   "execution_count": 16,
   "id": "4f06a6c5",
   "metadata": {},
   "outputs": [
    {
     "name": "stdout",
     "output_type": "stream",
     "text": [
      "Found\n"
     ]
    }
   ],
   "source": [
    "fruits = [\"mango\", \"banana\", \"pear\", \"apple\"]\n",
    "if \"apple\" in fruits:\n",
    "    print(\"Found\")\n",
    "else:\n",
    "    print(\"Not found\")"
   ]
  }
 ],
 "metadata": {
  "kernelspec": {
   "display_name": "Python 3",
   "language": "python",
   "name": "python3"
  },
  "language_info": {
   "codemirror_mode": {
    "name": "ipython",
    "version": 3
   },
   "file_extension": ".py",
   "mimetype": "text/x-python",
   "name": "python",
   "nbconvert_exporter": "python",
   "pygments_lexer": "ipython3",
   "version": "3.13.5"
  }
 },
 "nbformat": 4,
 "nbformat_minor": 5
}
