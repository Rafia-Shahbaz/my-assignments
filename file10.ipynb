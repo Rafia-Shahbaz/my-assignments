{
 "cells": [
  {
   "cell_type": "markdown",
   "id": "8b69da0f",
   "metadata": {},
   "source": [
    "#𝗖𝗿𝗲𝗮𝘁𝗲 𝗮 𝗹𝗶𝘀𝘁 [\"𝟭𝟱\", \"𝟮𝟱\", \"𝟰𝟬\"]. 𝗖𝗼𝗻𝘃𝗲𝗿𝘁 𝗲𝗮𝗰𝗵 𝘁𝗼 int, 𝗮𝗱𝗱 𝟭𝟬, 𝘀𝘁𝗼𝗿𝗲 𝗶𝗻 𝗮 𝗻𝗲𝘄 tuple. 𝗣𝗿𝗶𝗻𝘁 𝗲𝗮𝗰𝗵 𝗲𝗹𝗲𝗺𝗲𝗻𝘁 𝗮𝗻𝗱 𝘁𝘆𝗽𝗲, 𝗮𝗻𝗱 𝗹𝗮𝗯𝗲𝗹 𝘃𝗮𝗹𝘂𝗲𝘀 > 𝟯𝟬 𝘂𝘀𝗶𝗻𝗴 if-else."
   ]
  },
  {
   "cell_type": "code",
   "execution_count": 1,
   "id": "49d69ae5",
   "metadata": {},
   "outputs": [
    {
     "name": "stdout",
     "output_type": "stream",
     "text": [
      "Value: 25, Type: <class 'int'>\n",
      "Lable: 30 or less\n",
      "Value: 35, Type: <class 'int'>\n",
      "Lable: Greater than 30\n",
      "Value: 50, Type: <class 'int'>\n",
      "Lable: Greater than 30\n"
     ]
    }
   ],
   "source": [
    "list = [\"15\", \"25\", \"40\"]\n",
    "tuple = tuple(int(num) + 10 for num in list)\n",
    "for val in tuple:\n",
    "    print(f\"Value: {val}, Type: {type(val)}\")\n",
    "    if val > 30:\n",
    "         print(\"Lable: Greater than 30\")\n",
    "    else:\n",
    "        print(\"Lable: 30 or less\")"
   ]
  },
  {
   "cell_type": "markdown",
   "id": "bc00a8b4",
   "metadata": {},
   "source": [
    "#𝗧𝗮𝗸𝗲 𝘂𝘀𝗲𝗿 𝗶𝗻𝗽𝘂𝘁 𝗳𝗼𝗿 𝗻𝗮𝗺𝗲, 𝗮𝗴𝗲 (𝗮𝘀 𝘀𝘁𝗿𝗶𝗻𝗴), 𝗮𝗻𝗱 𝗰𝗶𝘁𝘆. 𝗖𝗼𝗻𝘃𝗲𝗿𝘁 𝗮𝗴𝗲 𝘁𝗼 int, 𝗮𝗱𝗱 𝗶𝗻𝘁𝗼 𝗱𝗶𝗰𝘁 & tuple, 𝗰𝗵𝗲𝗰𝗸 𝗲𝗹𝗶𝗴𝗶𝗯𝗶𝗹𝗶𝘁𝘆 𝗳𝗼𝗿 𝘃𝗼𝘁𝗶𝗻𝗴."
   ]
  },
  {
   "cell_type": "code",
   "execution_count": 2,
   "id": "eb211e03",
   "metadata": {},
   "outputs": [
    {
     "name": "stdout",
     "output_type": "stream",
     "text": [
      "You are eligible for voting. \n"
     ]
    }
   ],
   "source": [
    "name = input(\"Enter your name: \")\n",
    "age = int(input(\"Enter your age: \"))\n",
    "city = input(\"Enter your city: \")\n",
    "dict = {\"name\": name, \"age\": age, \"city\": city}\n",
    "tuple = (name, age, city)\n",
    "if age >= 18:\n",
    "    print(\"You are eligible for voting. \")\n",
    "else:\n",
    "    print(\"You are not eligible for voting. \")"
   ]
  },
  {
   "cell_type": "markdown",
   "id": "52c8217a",
   "metadata": {},
   "source": [
    "#𝗖𝗿𝗲𝗮𝘁𝗲 𝗮 𝗹𝗶𝘀𝘁 [\"𝟱𝟱\", \"𝟰𝟱\", \"𝟴𝟱\", \"𝟯𝟱\"]. 𝗖𝗼𝗻𝘃𝗲𝗿𝘁 𝘁𝗼 int, 𝗰𝗹𝗮𝘀𝘀𝗶𝗳𝘆 𝗮𝘀 \"𝗣𝗮𝘀𝘀\"/\"𝗙𝗮𝗶𝗹\" 𝘂𝘀𝗶𝗻𝗴 if-else, 𝘀𝘁𝗼𝗿𝗲 𝗶𝗻 𝗱𝗶𝗰𝘁, 𝗽𝗿𝗶𝗻𝘁 𝗲𝗮𝗰𝗵 𝘄𝗶𝘁𝗵 type()."
   ]
  },
  {
   "cell_type": "code",
   "execution_count": 8,
   "id": "eceef2a6",
   "metadata": {},
   "outputs": [
    {
     "name": "stdout",
     "output_type": "stream",
     "text": [
      "Marks: 55, Result: Pass, Type: <class 'int'>\n",
      "Marks: 45, Result: Fail, Type: <class 'int'>\n",
      "Marks: 85, Result: Pass, Type: <class 'int'>\n",
      "Marks: 35, Result: Fail, Type: <class 'int'>\n"
     ]
    }
   ],
   "source": [
    "marks = [\"55\", \"45\", \"85\", \"35\"]\n",
    "results = {}\n",
    "for m in marks:\n",
    "    num = int(m)\n",
    "    if num >= 50:\n",
    "        results[num] = \"Pass\"\n",
    "    else:\n",
    "        results[num] = \"Fail\"\n",
    "for k, v in results.items():\n",
    "    print(f\"Marks: {k}, Result: {v}, Type: {type(k)}\")"
   ]
  },
  {
   "cell_type": "markdown",
   "id": "f9efa863",
   "metadata": {},
   "source": [
    "#𝗗𝗲𝗳𝗶𝗻𝗲 𝗮 tuple (\"𝗙𝗮𝗿𝗮𝗵\", \"𝟮𝟬\", \"𝟴𝟴.𝟱\"). 𝗖𝗮𝘀𝘁 𝗮𝗴𝗲 𝘁𝗼 int, 𝘀𝗰𝗼𝗿𝗲 𝘁𝗼 float, 𝗮𝗱𝗱 𝟱 𝘁𝗼 𝘀𝗰𝗼𝗿𝗲, 𝗽𝘂𝘁 𝗶𝗻 𝗱𝗶𝗰𝘁, 𝗽𝗿𝗶𝗻𝘁 𝘂𝘀𝗶𝗻𝗴 𝗹𝗼𝗼𝗽."
   ]
  },
  {
   "cell_type": "code",
   "execution_count": 11,
   "id": "7613eaee",
   "metadata": {},
   "outputs": [
    {
     "name": "stdout",
     "output_type": "stream",
     "text": [
      "name Farah\n",
      "age 20\n",
      "score 93.5\n"
     ]
    }
   ],
   "source": [
    "data = (\"Farah\", \"20\", \"88.5\")\n",
    "name = data[0]\n",
    "age = int(data[1])\n",
    "score = float(data[2]) + 5\n",
    "info = {\"name\": name, \"age\": age, \"score\": score}\n",
    "for k in info:\n",
    "    print(f\"{k} {info[k]}\")"
   ]
  },
  {
   "cell_type": "markdown",
   "id": "34f0fae6",
   "metadata": {},
   "source": [
    " #𝗟𝗶𝘀𝘁 𝗼𝗳 𝗻𝗮𝗺𝗲𝘀 = [\"𝗔𝗻𝗮\", \"𝗦𝗮𝗻𝗮\", \"𝗦𝗮𝗹𝗺𝗮𝗻\"]. 𝗖𝗼𝘂𝗻𝘁 𝗻𝗮𝗺𝗲𝘀 > 𝟰 𝗹𝗲𝘁𝘁𝗲𝗿𝘀. 𝗖𝗿𝗲𝗮𝘁𝗲 𝗱𝗶𝗰𝘁: 𝗻𝗮𝗺𝗲 ➝ 𝗹𝗲𝗻𝗴𝘁𝗵, 𝗹𝗮𝗯𝗲𝗹 𝗮𝘀 \"𝘀𝗵𝗼𝗿𝘁\"/\"𝗺𝗲𝗱𝗶𝘂𝗺\"/\"𝗹𝗼𝗻𝗴\"."
   ]
  },
  {
   "cell_type": "code",
   "execution_count": 5,
   "id": "d0ae9168",
   "metadata": {},
   "outputs": [
    {
     "name": "stdout",
     "output_type": "stream",
     "text": [
      "Count > 4 letters:  0\n",
      "Name Length Labels:  {'Ana': 'Short'}\n",
      "Count > 4 letters:  0\n",
      "Name Length Labels:  {'Ana': 'Short', 'Sana': 'Short'}\n",
      "Count > 4 letters:  1\n",
      "Name Length Labels:  {'Ana': 'Short', 'Sana': 'Short', 'Salman': 'Medium'}\n"
     ]
    }
   ],
   "source": [
    "names = [\"Ana\", \"Sana\", \"Salman\"]\n",
    "count = 0\n",
    "name_info = {}\n",
    "for n in names:\n",
    "    length = len(n)\n",
    "    if length > 4:\n",
    "        count += 1\n",
    "    if length <= 4:\n",
    "        label = \"Short\"\n",
    "    elif length <= 6:\n",
    "        label = \"Medium\"\n",
    "    else:\n",
    "        lable = \"Long\"\n",
    "    name_info[n] = label\n",
    "    print(\"Count > 4 letters: \", count)\n",
    "    print(\"Name Length Labels: \", name_info)"
   ]
  },
  {
   "cell_type": "markdown",
   "id": "faa6d0a7",
   "metadata": {},
   "source": [
    "#𝗜𝗻𝗽𝘂𝘁 𝗽𝗿𝗼𝗱𝘂𝗰𝘁 𝗻𝗮𝗺𝗲𝘀 & 𝗽𝗿𝗶𝗰𝗲𝘀 (𝗮𝘀 𝘀𝘁𝗿𝗶𝗻𝗴𝘀). 𝗖𝗮𝘀𝘁 𝗽𝗿𝗶𝗰𝗲𝘀 𝘁𝗼 float, 𝗽𝘂𝘁 𝗶𝗻 𝗱𝗶𝗰𝘁, 𝗽𝗿𝗶𝗻𝘁 𝘄𝗶𝘁𝗵 if 𝗵𝗶𝗴𝗵𝗹𝗶𝗴𝗵𝘁𝗶𝗻𝗴 𝗶𝘁𝗲𝗺𝘀 > 𝟭𝟬𝟬."
   ]
  },
  {
   "cell_type": "code",
   "execution_count": 15,
   "id": "2a77d096",
   "metadata": {},
   "outputs": [
    {
     "name": "stdout",
     "output_type": "stream",
     "text": [
      "Perfeum 1000.0 (Expensive)\n",
      "Cup 900.0 (Expensive)\n",
      "Pencil box 400.0 (Expensive)\n"
     ]
    }
   ],
   "source": [
    "products = {}\n",
    "for i in range(3):\n",
    "    name = input(\"Enter product name: \")\n",
    "    price = float(input(f\"Enter price of {name}: \"))\n",
    "    products[name] = price\n",
    "for name, price in products.items():\n",
    "    if price > 100:\n",
    "        print(f\"{name} {price} (Expensive)\")\n",
    "    else:\n",
    "        print(f\"{name} {price}\")"
   ]
  },
  {
   "cell_type": "markdown",
   "id": "31172db0",
   "metadata": {},
   "source": [
    "#𝗠𝗶𝘅𝗲𝗱 𝗹𝗶𝘀𝘁 = [\"𝟭𝟬𝟬\", 𝟮𝟬𝟬, 𝟯𝟬𝟬.𝟱, \"𝟰𝟬𝟬\"]. 𝗖𝗼𝗻𝘃𝗲𝗿𝘁 𝘁𝗼 float, 𝗽𝗿𝗶𝗻𝘁 𝗮𝗻𝗱 𝗰𝗮𝘁𝗲𝗴𝗼𝗿𝗶𝘇𝗲 𝗮𝘀 \"𝗔𝗯𝗼𝘃𝗲 𝟮𝟱𝟬\"/\"𝗕𝗲𝗹𝗼𝘄 𝟮𝟱𝟬\"."
   ]
  },
  {
   "cell_type": "code",
   "execution_count": 16,
   "id": "4ca363f5",
   "metadata": {},
   "outputs": [
    {
     "name": "stdout",
     "output_type": "stream",
     "text": [
      "100.0 Below 250\n",
      "200.0 Below 250\n",
      "300.5 Above 250\n",
      "400.0 Above 250\n"
     ]
    }
   ],
   "source": [
    "mixed = [\"100\", 200, 300.5, \"400\"]\n",
    "for item in mixed:\n",
    "    val = float(item)\n",
    "    if val > 250:\n",
    "        print(f\"{val} Above 250\")\n",
    "    else:\n",
    "        print(f\"{val} Below 250\")"
   ]
  },
  {
   "cell_type": "markdown",
   "id": "84c96cf1",
   "metadata": {},
   "source": [
    "#𝗧𝘂𝗽𝗹𝗲 = (\"𝗔𝗹𝗶\", \"𝟮𝟱\", \"𝗧𝗿𝘂𝗲\"). 𝗖𝗼𝗻𝘃𝗲𝗿𝘁 𝗮𝗴𝗲 𝘁𝗼 int, 𝘀𝘁𝗿𝗶𝗻𝗴 𝗧𝗿𝘂𝗲 𝘁𝗼 bool, 𝘀𝘁𝗼𝗿𝗲 𝗶𝗻 𝗱𝗶𝗰𝘁, 𝗽𝗿𝗶𝗻𝘁 𝗸𝗲𝘆-𝘃𝗮𝗹𝘂𝗲𝘀 𝘄𝗶𝘁𝗵 𝘀𝘁𝘂𝗱𝗲𝗻𝘁 𝗰𝗵𝗲𝗰𝗸."
   ]
  },
  {
   "cell_type": "code",
   "execution_count": 17,
   "id": "6d704193",
   "metadata": {},
   "outputs": [
    {
     "name": "stdout",
     "output_type": "stream",
     "text": [
      "name: Ali\n",
      "age: 25\n",
      "is_student: True\n"
     ]
    }
   ],
   "source": [
    "student = (\"Ali\", \"25\", \"True\")\n",
    "name= student[0]\n",
    "age = int(student[1])\n",
    "is_student = student[2]\n",
    "info = {\"name\": name, \"age\": age, \"is_student\": is_student}\n",
    "for key, value in info.items():\n",
    "    print(f\"{key}: {value}\")"
   ]
  },
  {
   "cell_type": "markdown",
   "id": "738a19ce",
   "metadata": {},
   "source": [
    " #𝗦𝘂𝗯𝗷𝗲𝗰𝘁𝘀 𝗱𝗶𝗰𝘁 = {\"𝗠𝗮𝘁𝗵\": \"𝟵𝟬\", \"𝗘𝗻𝗴𝗹𝗶𝘀𝗵\": \"𝟴𝟱\"}. 𝗖𝗼𝗻𝘃𝗲𝗿𝘁 𝘁𝗼 int, 𝗰𝗮𝗹𝗰𝘂𝗹𝗮𝘁𝗲 𝘁𝗼𝘁𝗮𝗹 & 𝗮𝘃𝗲𝗿𝗮𝗴𝗲, 𝗮𝘀𝘀𝗶𝗴𝗻 𝗴𝗿𝗮𝗱𝗲𝘀 𝘂𝘀𝗶𝗻𝗴 if-elif-else."
   ]
  },
  {
   "cell_type": "code",
   "execution_count": 18,
   "id": "a0fa8b89",
   "metadata": {},
   "outputs": [
    {
     "name": "stdout",
     "output_type": "stream",
     "text": [
      "Total: 175, Average: 87.5, Grade: B\n"
     ]
    }
   ],
   "source": [
    "subjects = {\"Math\": \"90\", \"English\": \"85\"}\n",
    "total = 0\n",
    "for k in subjects:\n",
    "    subjects[k] = int (subjects[k])\n",
    "    total += subjects[k]\n",
    "average = total / len(subjects)\n",
    "if average >= 90:\n",
    "    grade = \"A\"\n",
    "elif average >= 80:\n",
    "    grade = \"B\"\n",
    "elif average >= 70:\n",
    "    grade = \"C\"\n",
    "else:\n",
    "    grade = \"D\"\n",
    "print(f\"Total: {total}, Average: {average}, Grade: {grade}\")"
   ]
  },
  {
   "cell_type": "markdown",
   "id": "5857e51a",
   "metadata": {},
   "source": [
    "#𝗔𝘀𝗸 𝘂𝘀𝗲𝗿 𝗳𝗼𝗿 𝟱 𝗴𝗮𝗱𝗴𝗲𝘁 𝗻𝗮𝗺𝗲𝘀 (𝘀𝘁𝗿𝗶𝗻𝗴𝘀), 𝗰𝗼𝗻𝘃𝗲𝗿𝘁 𝟯𝗿𝗱 𝘁𝗼 uppercase(), 𝘀𝘁𝗼𝗿𝗲 𝗽𝗿𝗶𝗰𝗲𝘀 𝗶𝗻 𝗮𝗻𝗼𝘁𝗵𝗲𝗿 𝗹𝗶𝘀𝘁, 𝗰𝗮𝗹𝗰𝘂𝗹𝗮𝘁𝗲 𝘁𝗼𝘁𝗮𝗹 & 𝗳𝗹𝗮𝗴 𝗲𝘅𝗽𝗲𝗻𝘀𝗶𝘃𝗲 𝗶𝘁𝗲𝗺𝘀 𝗶𝗻 𝗱𝗶𝗰𝘁"
   ]
  },
  {
   "cell_type": "code",
   "execution_count": 2,
   "id": "697876bb",
   "metadata": {},
   "outputs": [
    {
     "name": "stdout",
     "output_type": "stream",
     "text": [
      "Total Price: 2850.0\n",
      "Phone Rs.900.0(Expensive)\n",
      "Charger Rs.150.0\n",
      "LAPTOP Rs.1200.0(Expensive)\n",
      "Watch Rs.400.0\n",
      "Mouse Rs.200.0\n"
     ]
    }
   ],
   "source": [
    "gadgets = []\n",
    "prices = []\n",
    "for i in range(5):\n",
    "    name = input(\"Enter gadget name: \")\n",
    "    if i == 2:\n",
    "        name = name.upper()\n",
    "    gadgets.append(name)\n",
    "    price = float(input(f\"Enter price of {name}: \"))\n",
    "    prices.append(price)\n",
    "gadgets_info = dict(zip(gadgets, prices))\n",
    "total = sum(prices)\n",
    "print(\"Total Price:\", total)\n",
    "for name, price in gadgets_info.items():\n",
    "    if price > 500:\n",
    "        print(f\"{name} Rs.{price}(Expensive)\")\n",
    "    else:\n",
    "        print(f\"{name} Rs.{price}\")"
   ]
  }
 ],
 "metadata": {
  "kernelspec": {
   "display_name": "Python 3",
   "language": "python",
   "name": "python3"
  },
  "language_info": {
   "codemirror_mode": {
    "name": "ipython",
    "version": 3
   },
   "file_extension": ".py",
   "mimetype": "text/x-python",
   "name": "python",
   "nbconvert_exporter": "python",
   "pygments_lexer": "ipython3",
   "version": "3.13.5"
  }
 },
 "nbformat": 4,
 "nbformat_minor": 5
}
