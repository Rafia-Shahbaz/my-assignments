{
  "nbformat": 4,
  "nbformat_minor": 0,
  "metadata": {
    "colab": {
      "provenance": [],
      "authorship_tag": "ABX9TyNHLrW2QYvBeMLQE/cbe9QR",
      "include_colab_link": true
    },
    "kernelspec": {
      "name": "python3",
      "display_name": "Python 3"
    },
    "language_info": {
      "name": "python"
    }
  },
  "cells": [
    {
      "cell_type": "markdown",
      "metadata": {
        "id": "view-in-github",
        "colab_type": "text"
      },
      "source": [
        "<a href=\"https://colab.research.google.com/github/Rafia-Shahbaz/my-assignments/blob/main/Assignment_20(Rafia).ipynb\" target=\"_parent\"><img src=\"https://colab.research.google.com/assets/colab-badge.svg\" alt=\"Open In Colab\"/></a>"
      ]
    },
    {
      "cell_type": "markdown",
      "source": [
        "# **Pydantic & Generics**\n",
        "\n",
        "\n"
      ],
      "metadata": {
        "id": "0uxQmhy9zLl3"
      }
    },
    {
      "cell_type": "markdown",
      "source": [
        "Create a User Pydantic model with fields: name (str), age (int), email (str). Validate an instance."
      ],
      "metadata": {
        "id": "-SwQv-TXkgcI"
      }
    },
    {
      "cell_type": "code",
      "execution_count": null,
      "metadata": {
        "colab": {
          "base_uri": "https://localhost:8080/"
        },
        "id": "vJvyxzkOzBBi",
        "outputId": "d6b365d2-c564-4b3b-8a79-71df4bf587f4"
      },
      "outputs": [
        {
          "output_type": "stream",
          "name": "stdout",
          "text": [
            "name='Rafia' age=23 email='Rafia@example.com'\n"
          ]
        }
      ],
      "source": [
        "from pydantic import BaseModel\n",
        "class User(BaseModel):\n",
        "    name: str\n",
        "    age: int\n",
        "    email: str\n",
        "user = User(name = \"Rafia\", age=23, email = \"Rafia@example.com\")\n",
        "print(user)"
      ]
    },
    {
      "cell_type": "markdown",
      "source": [
        "Add a validator to ensure age is between 18 and 99; trigger error on invalid data."
      ],
      "metadata": {
        "id": "J-g7znCvkmuf"
      }
    },
    {
      "cell_type": "code",
      "source": [
        "from pydantic import validator\n",
        "class User(BaseModel):\n",
        "    name: str\n",
        "    age: int\n",
        "    email: str\n",
        "    @validator(\"age\")\n",
        "    def validate_age(cls, v):\n",
        "        if not 18 <= v <= 99:\n",
        "            raise ValueError(\"Age must be between 18 and 99\")\n",
        "        return v"
      ],
      "metadata": {
        "colab": {
          "base_uri": "https://localhost:8080/"
        },
        "id": "3TSkDBGpqTjy",
        "outputId": "718b6ac4-d5f0-456b-c5de-d0952251aba8"
      },
      "execution_count": null,
      "outputs": [
        {
          "output_type": "stream",
          "name": "stderr",
          "text": [
            "/tmp/ipython-input-3336397897.py:6: PydanticDeprecatedSince20: Pydantic V1 style `@validator` validators are deprecated. You should migrate to Pydantic V2 style `@field_validator` validators, see the migration guide for more details. Deprecated in Pydantic V2.0 to be removed in V3.0. See Pydantic V2 Migration Guide at https://errors.pydantic.dev/2.11/migration/\n",
            "  @validator(\"age\")\n"
          ]
        }
      ]
    },
    {
      "cell_type": "markdown",
      "source": [
        "Extend User with an optional field role: str = \"member\", and display the default."
      ],
      "metadata": {
        "id": "VgzMfrPXks-U"
      }
    },
    {
      "cell_type": "code",
      "source": [
        "class User(BaseModel):\n",
        "    name: str\n",
        "    age: int\n",
        "    email: str\n",
        "    role: str = \"member\"\n",
        "print(User(name=\"Sara\", age =25, email= \"Sara@example.com\"))"
      ],
      "metadata": {
        "colab": {
          "base_uri": "https://localhost:8080/"
        },
        "id": "H7ACroKktOHR",
        "outputId": "ac7e128c-6d14-4824-b38d-a8e853d5cf13"
      },
      "execution_count": null,
      "outputs": [
        {
          "output_type": "stream",
          "name": "stdout",
          "text": [
            "name='Sara' age=25 email='Sara@example.com' role='member'\n"
          ]
        }
      ]
    },
    {
      "cell_type": "markdown",
      "source": [
        "Create a generic Box[T] class storing item: T and a method get_item()."
      ],
      "metadata": {
        "id": "3nQ3p3P9k0Vq"
      }
    },
    {
      "cell_type": "code",
      "source": [
        "from typing import Generic, TypeVar\n",
        "T = TypeVar(\"T\")\n",
        "class Box(Generic[T]):\n",
        "    def __init__(self, item: T):\n",
        "        self.item = item\n",
        "    def get_item(self) -> T:\n",
        "        return self.item\n",
        "box1 = Box(\"123\")\n",
        "print(box1.get_item())\n",
        "box2 = Box[str](\"hello\")\n",
        "print(box2.get_item())"
      ],
      "metadata": {
        "colab": {
          "base_uri": "https://localhost:8080/"
        },
        "id": "Sy5i1VtouiCQ",
        "outputId": "c2a57a09-d750-487b-c95e-f1aaa0ff5729"
      },
      "execution_count": null,
      "outputs": [
        {
          "output_type": "stream",
          "name": "stdout",
          "text": [
            "123\n",
            "hello\n"
          ]
        }
      ]
    },
    {
      "cell_type": "markdown",
      "source": [
        "Use a Pydantic List[User] to validate a list of user dictionaries."
      ],
      "metadata": {
        "id": "xOELGZXebMEK"
      }
    },
    {
      "cell_type": "code",
      "source": [
        "from typing import List\n",
        "class User:\n",
        "    def __init__(self, name: str, age: int, email: str):\n",
        "        self.name = name\n",
        "        self.age = age\n",
        "        self.email = email\n",
        "user = [{\"name\": \"Ali\", \"age\": 25, \"email\": \"ali@example.com\"}, {\"name\": \"Sara\", \"age\": 25, \"email\": \"sara@example.com\"}]\n",
        "validated_users = [User(**u) for u in user]\n",
        "for v in validated_users:\n",
        "    print(v.name, v.age, v.email)"
      ],
      "metadata": {
        "colab": {
          "base_uri": "https://localhost:8080/"
        },
        "id": "3Rza1pPwPipT",
        "outputId": "c829e44c-4144-43b8-d702-89c7de7ee7fb"
      },
      "execution_count": null,
      "outputs": [
        {
          "output_type": "stream",
          "name": "stdout",
          "text": [
            "Ali 25 ali@example.com\n",
            "Sara 25 sara@example.com\n"
          ]
        }
      ]
    },
    {
      "cell_type": "markdown",
      "source": [
        "Define a Pydantic GenericModel Response[T] with data: T, success: bool, and test with T = User."
      ],
      "metadata": {
        "id": "sJ7_xG4zlB12"
      }
    },
    {
      "cell_type": "code",
      "source": [
        "from pydantic.generics import GenericModel\n",
        "class Response(GenericModel, Generic[T]):\n",
        "  data: T\n",
        "  success: bool\n",
        "res = Response[int](data=10, success=True)\n",
        "print(res)"
      ],
      "metadata": {
        "colab": {
          "base_uri": "https://localhost:8080/"
        },
        "id": "O5CZnQLTZp2a",
        "outputId": "e44e770a-b1ab-4fcf-de0b-0df8580eed32"
      },
      "execution_count": null,
      "outputs": [
        {
          "output_type": "stream",
          "name": "stdout",
          "text": [
            "data=10 success=True\n"
          ]
        },
        {
          "output_type": "stream",
          "name": "stderr",
          "text": [
            "/usr/local/lib/python3.12/dist-packages/pydantic/_migration.py:283: UserWarning: `pydantic.generics:GenericModel` has been moved to `pydantic.BaseModel`.\n",
            "  warnings.warn(f'`{import_path}` has been moved to `{new_location}`.')\n"
          ]
        }
      ]
    },
    {
      "cell_type": "markdown",
      "source": [
        "Serialize a Response[User] to JSON and print."
      ],
      "metadata": {
        "id": "uOgOl0VjlPcE"
      }
    },
    {
      "cell_type": "code",
      "source": [
        "print(res.json())"
      ],
      "metadata": {
        "colab": {
          "base_uri": "https://localhost:8080/"
        },
        "id": "cDh7J6YibDpC",
        "outputId": "f0345994-dfcc-4ff3-d1cb-6e4d39c8b4a4"
      },
      "execution_count": null,
      "outputs": [
        {
          "output_type": "stream",
          "name": "stdout",
          "text": [
            "{\"data\":10,\"success\":true}\n"
          ]
        },
        {
          "output_type": "stream",
          "name": "stderr",
          "text": [
            "/tmp/ipython-input-2126158766.py:1: PydanticDeprecatedSince20: The `json` method is deprecated; use `model_dump_json` instead. Deprecated in Pydantic V2.0 to be removed in V3.0. See Pydantic V2 Migration Guide at https://errors.pydantic.dev/2.11/migration/\n",
            "  print(res.json())\n"
          ]
        }
      ]
    },
    {
      "cell_type": "markdown",
      "source": [
        " Add custom validation to ensure that email contains \"@\" using Pydantic @validator."
      ],
      "metadata": {
        "id": "Ka14TdLzlYQw"
      }
    },
    {
      "cell_type": "code",
      "source": [
        "from pydantic import BaseModel, validator\n",
        "class User(BaseModel):\n",
        "    name: str\n",
        "    age: int\n",
        "    email: str\n",
        "    @validator(\"email\")\n",
        "    def valid_email(cls, v):\n",
        "        if \"@\" not in v:\n",
        "            raise ValueError(\"Email must contain @\")\n",
        "        return v\n",
        "    class Config:\n",
        "        arbitrary_types_allowed = True\n",
        "user = User(name=\"Ali\", age=25, email=\"ali@example.com\")\n",
        "print(user)"
      ],
      "metadata": {
        "colab": {
          "base_uri": "https://localhost:8080/"
        },
        "id": "9Ddg3-KnbOII",
        "outputId": "bbbc0159-e24a-4798-b4d7-05238bc2fffb"
      },
      "execution_count": null,
      "outputs": [
        {
          "output_type": "stream",
          "name": "stdout",
          "text": [
            "name='Ali' age=25 email='ali@example.com'\n"
          ]
        },
        {
          "output_type": "stream",
          "name": "stderr",
          "text": [
            "/tmp/ipython-input-3098031104.py:6: PydanticDeprecatedSince20: Pydantic V1 style `@validator` validators are deprecated. You should migrate to Pydantic V2 style `@field_validator` validators, see the migration guide for more details. Deprecated in Pydantic V2.0 to be removed in V3.0. See Pydantic V2 Migration Guide at https://errors.pydantic.dev/2.11/migration/\n",
            "  @validator(\"email\")\n"
          ]
        }
      ]
    },
    {
      "cell_type": "markdown",
      "source": [
        "Use Field() to add metadata to Pydantic fields, such as description, and print the metadata via .schema()."
      ],
      "metadata": {
        "id": "egU5PJ2vle0Y"
      }
    },
    {
      "cell_type": "code",
      "source": [
        "from pydantic import Field\n",
        "class User(BaseModel):\n",
        "    name: str = Field(...,description=\"Name of the user\")\n",
        "    age: int = Field(..., description=\"Age of the user\")\n",
        "    email: str = Field(..., description=\"Email of the user\")\n",
        "print(User.schema())"
      ],
      "metadata": {
        "colab": {
          "base_uri": "https://localhost:8080/"
        },
        "id": "EmOWDFl1cknY",
        "outputId": "8539c6cd-2dfa-4456-d19b-0f751a3ee080"
      },
      "execution_count": null,
      "outputs": [
        {
          "output_type": "stream",
          "name": "stdout",
          "text": [
            "{'properties': {'name': {'description': 'Name of the user', 'title': 'Name', 'type': 'string'}, 'age': {'description': 'Age of the user', 'title': 'Age', 'type': 'integer'}, 'email': {'description': 'Email of the user', 'title': 'Email', 'type': 'string'}}, 'required': ['name', 'age', 'email'], 'title': 'User', 'type': 'object'}\n"
          ]
        },
        {
          "output_type": "stream",
          "name": "stderr",
          "text": [
            "/tmp/ipython-input-2702827601.py:6: PydanticDeprecatedSince20: The `schema` method is deprecated; use `model_json_schema` instead. Deprecated in Pydantic V2.0 to be removed in V3.0. See Pydantic V2 Migration Guide at https://errors.pydantic.dev/2.11/migration/\n",
            "  print(User.schema())\n"
          ]
        }
      ]
    }
  ]
}