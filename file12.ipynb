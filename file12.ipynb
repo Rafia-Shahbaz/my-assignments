{
 "cells": [
  {
   "cell_type": "markdown",
   "id": "c21c1513",
   "metadata": {},
   "source": [
    "𝗜𝗺𝗽𝗼𝗿𝘁 math 𝗺𝗼𝗱𝘂𝗹𝗲 𝗮𝗻𝗱 𝘂𝘀𝗲 math.factorial() 𝘁𝗼 𝗳𝗶𝗻𝗱 𝗳𝗮𝗰𝘁𝗼𝗿𝗶𝗮𝗹. 𝗖𝗿𝗲𝗮𝘁𝗲 𝗮 𝗳𝘂𝗻𝗰𝘁𝗶𝗼𝗻 double(n) 𝘁𝗼 𝗿𝗲𝘁𝘂𝗿𝗻 𝘁𝘄𝗶𝗰𝗲 𝘁𝗵𝗲 𝗶𝗻𝗽𝘂𝘁. 𝗖𝗮𝗹𝗹 𝗯𝗼𝘁𝗵 𝗳𝘂𝗻𝗰𝘁𝗶𝗼𝗻𝘀."
   ]
  },
  {
   "cell_type": "code",
   "execution_count": 1,
   "id": "a3764068",
   "metadata": {},
   "outputs": [
    {
     "name": "stdout",
     "output_type": "stream",
     "text": [
      "Factorial:  120\n",
      "Double:  10\n"
     ]
    }
   ],
   "source": [
    "import math \n",
    "def double(n):\n",
    "    return 2 * n\n",
    "num = 5 \n",
    "print(\"Factorial: \", math.factorial(num))\n",
    "print(\"Double: \", double(num))"
   ]
  },
  {
   "cell_type": "markdown",
   "id": "2c583350",
   "metadata": {},
   "source": [
    "𝗜𝗺𝗽𝗼𝗿𝘁 random 𝗮𝗻𝗱 𝘂𝘀𝗲 random.choice() 𝗼𝗻 𝗮 𝗹𝗶𝘀𝘁. 𝗗𝗲𝗳𝗶𝗻𝗲 greet(name) 𝘁𝗼 𝗽𝗿𝗶𝗻𝘁 𝗮 𝗴𝗿𝗲𝗲𝘁𝗶𝗻𝗴. 𝗨𝘀𝗲 len() 𝘁𝗼 𝗽𝗿𝗶𝗻𝘁 𝘁𝗵𝗲 𝗹𝗶𝘀𝘁 𝗹𝗲𝗻𝗴𝘁𝗵."
   ]
  },
  {
   "cell_type": "code",
   "execution_count": 2,
   "id": "23f1d33c",
   "metadata": {},
   "outputs": [
    {
     "name": "stdout",
     "output_type": "stream",
     "text": [
      "Hello! Usman, Welcome.\n",
      "List length:  4\n"
     ]
    }
   ],
   "source": [
    "import random\n",
    "names = [\"Ali\", \"Sara\", \"Usman\", \"Noor\"]\n",
    "random_name = random.choice(names)\n",
    "def greet(name):\n",
    "    print(f\"Hello! {name}, Welcome.\")\n",
    "greet(random_name)\n",
    "print(\"List length: \", len(names))"
   ]
  },
  {
   "cell_type": "markdown",
   "id": "2b7ec832",
   "metadata": {},
   "source": [
    "𝗨𝘀𝗲 sum() 𝘁𝗼 𝗮𝗱𝗱 𝗹𝗶𝘀𝘁 𝗲𝗹𝗲𝗺𝗲𝗻𝘁𝘀. 𝗜𝗺𝗽𝗼𝗿𝘁 statistics 𝗮𝗻𝗱 𝘂𝘀𝗲 mean(). 𝗖𝗿𝗲𝗮𝘁𝗲 is_even(num) 𝘁𝗼 𝗰𝗵𝗲𝗰𝗸 𝗲𝘃𝗲𝗻 𝗻𝘂𝗺𝗯𝗲𝗿𝘀."
   ]
  },
  {
   "cell_type": "code",
   "execution_count": 3,
   "id": "d9c920ea",
   "metadata": {},
   "outputs": [
    {
     "name": "stdout",
     "output_type": "stream",
     "text": [
      "Sum:  100\n",
      "Mean:  25\n",
      "Is 30 even? True\n"
     ]
    }
   ],
   "source": [
    "import statistics\n",
    "numbers = [10, 20, 30 ,40]\n",
    "def is_even(num):\n",
    "    return num % 2 == 0\n",
    "print(\"Sum: \", sum(numbers))\n",
    "print(\"Mean: \", statistics.mean(numbers))\n",
    "print(\"Is 30 even?\", is_even(30))"
   ]
  },
  {
   "cell_type": "markdown",
   "id": "08b7269e",
   "metadata": {},
   "source": [
    " 𝗜𝗺𝗽𝗼𝗿𝘁 datetime 𝗮𝗻𝗱 𝗽𝗿𝗶𝗻𝘁 𝗰𝘂𝗿𝗿𝗲𝗻𝘁 𝗱𝗮𝘁𝗲 & 𝘁𝗶𝗺𝗲 𝘂𝘀𝗶𝗻𝗴 datetime.now(). 𝗖𝗿𝗲𝗮𝘁𝗲 say_hello() 𝗳𝘂𝗻𝗰𝘁𝗶𝗼𝗻. 𝗖𝗵𝗲𝗰𝗸 𝗮 𝘃𝗮𝗿𝗶𝗮𝗯𝗹𝗲’𝘀 𝘁𝘆𝗽𝗲 𝘄𝗶𝘁𝗵 type()."
   ]
  },
  {
   "cell_type": "code",
   "execution_count": 4,
   "id": "36566193",
   "metadata": {},
   "outputs": [
    {
     "name": "stdout",
     "output_type": "stream",
     "text": [
      "Current datetime:  2025-07-11 14:14:04.243539\n",
      "Hello there!\n",
      "Type of now variable:  <class 'datetime.datetime'>\n"
     ]
    }
   ],
   "source": [
    "from datetime import datetime\n",
    "def say_hello():\n",
    "    print(\"Hello there!\")\n",
    "now = datetime.now()\n",
    "print(\"Current datetime: \", now)\n",
    "say_hello()\n",
    "print(\"Type of now variable: \", type(now))"
   ]
  },
  {
   "cell_type": "markdown",
   "id": "67456e1b",
   "metadata": {},
   "source": [
    "𝗖𝗿𝗲𝗮𝘁𝗲 area_of_circle(radius) 𝘂𝘀𝗶𝗻𝗴 𝝅r². 𝗜𝗺𝗽𝗼𝗿𝘁 math 𝗮𝗻𝗱 𝘂𝘀𝗲 math.pi. 𝗣𝗿𝗶𝗻𝘁 𝘁𝗵𝗲 𝗮𝗿𝗲𝗮 𝗮𝗻𝗱 𝗰𝗵𝗲𝗰𝗸 𝘁𝘆𝗽𝗲."
   ]
  },
  {
   "cell_type": "code",
   "execution_count": 5,
   "id": "9003a497",
   "metadata": {},
   "outputs": [
    {
     "name": "stdout",
     "output_type": "stream",
     "text": [
      "Area of circle:  153.93804002589985\n",
      "Type:  <class 'float'>\n"
     ]
    }
   ],
   "source": [
    "def area_of_circle(radius):\n",
    "    return math.pi * radius ** 2\n",
    "area = area_of_circle(7)\n",
    "print(\"Area of circle: \", area)\n",
    "print(\"Type: \", type(area))"
   ]
  },
  {
   "cell_type": "markdown",
   "id": "b6a15fbc",
   "metadata": {},
   "source": [
    "𝗜𝗺𝗽𝗼𝗿𝘁 random. 𝗚𝗲𝗻𝗲𝗿𝗮𝘁𝗲 𝗮 𝗿𝗮𝗻𝗱𝗼𝗺 𝗻𝘂𝗺𝗯𝗲𝗿 𝘂𝘀𝗶𝗻𝗴 randint(10, 100). 𝗗𝗲𝗳𝗶𝗻𝗲 check_number(num) 𝘁𝗼 𝗰𝗵𝗲𝗰𝗸 𝗶𝗳 𝗴𝗿𝗲𝗮𝘁𝗲𝗿 𝘁𝗵𝗮𝗻 𝟱𝟬"
   ]
  },
  {
   "cell_type": "code",
   "execution_count": 7,
   "id": "d6b773f4",
   "metadata": {},
   "outputs": [
    {
     "name": "stdout",
     "output_type": "stream",
     "text": [
      "Random number:  17\n",
      "17 is 50 or less\n"
     ]
    }
   ],
   "source": [
    "random_num = random.randint(10, 100)\n",
    "def check_number(num):\n",
    "    if num > 50:\n",
    "        print(f\"{num} is greater than 50\")\n",
    "    else:\n",
    "        print(f\"{num} is 50 or less\")\n",
    "print(\"Random number: \", random_num)\n",
    "check_number(random_num)"
   ]
  },
  {
   "cell_type": "markdown",
   "id": "46f9db05",
   "metadata": {},
   "source": [
    "𝗨𝘀𝗲 max() 𝗼𝗻 𝗮 𝗹𝗶𝘀𝘁. 𝗜𝗺𝗽𝗼𝗿𝘁 math 𝗮𝗻𝗱 𝘂𝘀𝗲 math.pow(x, y). 𝗖𝗿𝗲𝗮𝘁𝗲 display_info() 𝘁𝗼 𝗽𝗿𝗶𝗻𝘁 𝗻𝗮𝗺𝗲 & 𝗮𝗴𝗲."
   ]
  },
  {
   "cell_type": "code",
   "execution_count": 8,
   "id": "d72eecd5",
   "metadata": {},
   "outputs": [
    {
     "name": "stdout",
     "output_type": "stream",
     "text": [
      "Max value:  100\n",
      "2^3 =  8.0\n",
      "Name:  Rafia\n",
      "Age:  23\n"
     ]
    }
   ],
   "source": [
    "def disply_info():\n",
    "    name = \"Rafia\"\n",
    "    age = 23\n",
    "    print(\"Name: \", name)\n",
    "    print(\"Age: \", age)\n",
    "values = [100, 80, 99]\n",
    "print(\"Max value: \", max(values))\n",
    "print(\"2^3 = \", math.pow(2,3))\n",
    "disply_info()"
   ]
  },
  {
   "cell_type": "markdown",
   "id": "d1b3f371",
   "metadata": {},
   "source": [
    "𝗜𝗺𝗽𝗼𝗿𝘁 calendar. 𝗣𝗿𝗶𝗻𝘁 𝗠𝗮𝘆 𝟮𝟬𝟮𝟱 𝘂𝘀𝗶𝗻𝗴 calendar.month(2025, 5). 𝗖𝗼𝘂𝗻𝘁 𝗰𝗵𝗮𝗿𝗮𝗰𝘁𝗲𝗿𝘀 𝘄𝗶𝘁𝗵 len(). 𝗗𝗲𝗳𝗶𝗻𝗲 show_message()."
   ]
  },
  {
   "cell_type": "code",
   "execution_count": 9,
   "id": "262b1c8a",
   "metadata": {},
   "outputs": [
    {
     "name": "stdout",
     "output_type": "stream",
     "text": [
      "      May 2025\n",
      "Mo Tu We Th Fr Sa Su\n",
      "          1  2  3  4\n",
      " 5  6  7  8  9 10 11\n",
      "12 13 14 15 16 17 18\n",
      "19 20 21 22 23 24 25\n",
      "26 27 28 29 30 31\n",
      "\n",
      "number of characters in calendar:   138\n",
      "Welcome to the calendar program!\n"
     ]
    }
   ],
   "source": [
    "import calendar\n",
    "def show_message():\n",
    "    print(\"Welcome to the calendar program!\")\n",
    "may_2025 = calendar.month(2025, 5)\n",
    "print(may_2025)\n",
    "print(\"number of characters in calendar:  \", len(may_2025))\n",
    "show_message()"
   ]
  },
  {
   "cell_type": "markdown",
   "id": "d56b2ecc",
   "metadata": {},
   "source": [
    "𝗜𝗺𝗽𝗼𝗿𝘁 os, 𝗽𝗿𝗶𝗻𝘁 𝗰𝘂𝗿𝗿𝗲𝗻𝘁 𝗱𝗶𝗿 𝘂𝘀𝗶𝗻𝗴 os.getcwd(). 𝗖𝗼𝗻𝘃𝗲𝗿𝘁 𝗶𝗻𝘁 𝘁𝗼 𝘀𝘁𝗿𝗶𝗻𝗴 𝘄𝗶𝘁𝗵 str(). 𝗖𝗿𝗲𝗮𝘁𝗲 multiply(x, y) 𝘁𝗼 𝗿𝗲𝘁𝘂𝗿𝗻 𝗽𝗿𝗼𝗱𝘂𝗰𝘁."
   ]
  },
  {
   "cell_type": "code",
   "execution_count": 10,
   "id": "e0295024",
   "metadata": {},
   "outputs": [
    {
     "name": "stdout",
     "output_type": "stream",
     "text": [
      "Current directory:  c:\\Users\\Tauheed Khan\\Documents\n",
      "String version:  123\n",
      "Multiplication result:  42\n"
     ]
    }
   ],
   "source": [
    "import os\n",
    "def multiply(x, y):\n",
    "    return x * y\n",
    "print(\"Current directory: \", os.getcwd())\n",
    "number = 123\n",
    "print(\"String version: \", str(number))\n",
    "print(\"Multiplication result: \", multiply(6, 7))"
   ]
  },
  {
   "cell_type": "markdown",
   "id": "767a10c9",
   "metadata": {},
   "source": [
    " 𝗗𝗲𝗳𝗶𝗻𝗲 calculate_square_root(num) 𝘂𝘀𝗶𝗻𝗴 math.sqrt(). 𝗧𝗮𝗸𝗲 𝘂𝘀𝗲𝗿 𝗶𝗻𝗽𝘂𝘁, 𝗰𝗼𝗻𝘃𝗲𝗿𝘁 𝘁𝗼 int, 𝗰𝗵𝗲𝗰𝗸 𝘁𝘆𝗽𝗲, 𝗮𝗻𝗱 𝗽𝗿𝗶𝗻𝘁 𝘀𝗾𝘂𝗮𝗿𝗲 𝗿𝗼𝗼𝘁"
   ]
  },
  {
   "cell_type": "code",
   "execution_count": 11,
   "id": "29abb060",
   "metadata": {},
   "outputs": [
    {
     "name": "stdout",
     "output_type": "stream",
     "text": [
      "Type of input:  <class 'int'>\n",
      "Square root:  5.0990195135927845\n"
     ]
    }
   ],
   "source": [
    "def calculate_square_root(num):\n",
    "    return math.sqrt(num)\n",
    "user_input = int(input(\"Enter a number: \"))\n",
    "print(\"Type of input: \", type(user_input))\n",
    "print(\"Square root: \", calculate_square_root(user_input))"
   ]
  }
 ],
 "metadata": {
  "kernelspec": {
   "display_name": "Python 3",
   "language": "python",
   "name": "python3"
  },
  "language_info": {
   "codemirror_mode": {
    "name": "ipython",
    "version": 3
   },
   "file_extension": ".py",
   "mimetype": "text/x-python",
   "name": "python",
   "nbconvert_exporter": "python",
   "pygments_lexer": "ipython3",
   "version": "3.13.5"
  }
 },
 "nbformat": 4,
 "nbformat_minor": 5
}
