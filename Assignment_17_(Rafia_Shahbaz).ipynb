{
  "nbformat": 4,
  "nbformat_minor": 0,
  "metadata": {
    "colab": {
      "provenance": []
    },
    "kernelspec": {
      "name": "python3",
      "display_name": "Python 3"
    },
    "language_info": {
      "name": "python"
    }
  },
  "cells": [
    {
      "cell_type": "markdown",
      "source": [
        "**Assignment OPP Part(2)**"
      ],
      "metadata": {
        "id": "3e13V7SQUsjO"
      }
    },
    {
      "cell_type": "markdown",
      "source": [
        "Use inheritance by creating a Vehicle class with methods like move(); then subclass Car and Boat to extend.\n",
        "Demonstrate method overriding by redefining move() behavior in Car and Boat."
      ],
      "metadata": {
        "id": "hwJ5NxxiLcVS"
      }
    },
    {
      "cell_type": "code",
      "execution_count": null,
      "metadata": {
        "id": "PrUlt2NQ2Ebu",
        "colab": {
          "base_uri": "https://localhost:8080/"
        },
        "outputId": "4b47d07b-89d1-4e15-ef4a-629d55a282ee"
      },
      "outputs": [
        {
          "output_type": "stream",
          "name": "stdout",
          "text": [
            "Vehicle is Moving\n",
            "Car is Driving on the road\n",
            "Boat is sailing on water\n"
          ]
        }
      ],
      "source": [
        "class Vehicle:\n",
        "    def move(self):\n",
        "        print(\"Vehicle is Moving\")\n",
        "\n",
        "class Car(Vehicle):\n",
        "    def move(self):\n",
        "        print(\"Car is Driving on the road\")\n",
        "\n",
        "class Boat(Vehicle):\n",
        "    def move(self):\n",
        "        print(\"Boat is sailing on water\")\n",
        "v = Vehicle()\n",
        "v.move()\n",
        "c = Car()\n",
        "c.move()\n",
        "b = Boat()\n",
        "b.move()"
      ]
    },
    {
      "cell_type": "markdown",
      "source": [
        " Use operator overloading (_add_) in a Vector class to support vector addition using +."
      ],
      "metadata": {
        "id": "QDDeioegMhX1"
      }
    },
    {
      "cell_type": "code",
      "source": [
        "class Vector:\n",
        "    def __init__(self, x, y):\n",
        "        self.x = x\n",
        "        self.y = y\n",
        "    def __add__(self, other):\n",
        "        return Vector(self.x + other.x, self.y + other.y)\n",
        "    def __str__(self):\n",
        "        return f\"({self.x}, {self.y})\"\n",
        "v1 = Vector(2, 3)\n",
        "v2 = Vector(4, 5)\n",
        "v3 = v1 + v2\n",
        "print(v3)"
      ],
      "metadata": {
        "colab": {
          "base_uri": "https://localhost:8080/"
        },
        "id": "q4ZfrnTyMml0",
        "outputId": "fb00bf9e-8be1-4b1c-b0f1-4729965404d0"
      },
      "execution_count": null,
      "outputs": [
        {
          "output_type": "stream",
          "name": "stdout",
          "text": [
            "(6, 8)\n"
          ]
        }
      ]
    },
    {
      "cell_type": "markdown",
      "source": [
        " Implement polymorphism by creating a function"
      ],
      "metadata": {
        "id": "hrb6-CVINBeZ"
      }
    },
    {
      "cell_type": "code",
      "source": [
        "def describe_move(obj):\n",
        "  obj.move()\n",
        "describe_move(Car())\n",
        "describe_move(Boat())"
      ],
      "metadata": {
        "colab": {
          "base_uri": "https://localhost:8080/"
        },
        "id": "Z78n9pfSNIXs",
        "outputId": "d9838599-abd0-4de2-a152-fbe48cf39d8f"
      },
      "execution_count": null,
      "outputs": [
        {
          "output_type": "stream",
          "name": "stdout",
          "text": [
            "Car is Driving on the road\n",
            "Boat is sailing on water\n"
          ]
        }
      ]
    },
    {
      "cell_type": "markdown",
      "source": [
        "Apply decorators to log every method call in a sample class."
      ],
      "metadata": {
        "id": "6mr_6a_wNk7A"
      }
    },
    {
      "cell_type": "code",
      "source": [
        "def long_method_call(func):\n",
        "    def wrapper(*args, **kwargs):\n",
        "        print(f\"Calling: {func.__name__} \")\n",
        "        return func(*args, **kwargs)\n",
        "    return wrapper\n",
        "class Sample:\n",
        "  @long_method_call\n",
        "  def greet(self):\n",
        "      print(\"Hello!\")\n",
        "s = Sample()\n",
        "s.greet()"
      ],
      "metadata": {
        "colab": {
          "base_uri": "https://localhost:8080/"
        },
        "id": "_-gFRuVQNl5F",
        "outputId": "28c39884-1f7e-41f2-c828-003d1fcccdfe"
      },
      "execution_count": null,
      "outputs": [
        {
          "output_type": "stream",
          "name": "stdout",
          "text": [
            "Calling: greet \n",
            "Hello!\n"
          ]
        }
      ]
    },
    {
      "cell_type": "markdown",
      "source": [
        "Implement method overloading behavior using default parameters or *args/kwargs."
      ],
      "metadata": {
        "id": "f_I-OSEfPVz8"
      }
    },
    {
      "cell_type": "code",
      "source": [
        "class Calculator:\n",
        "    def add(self, *args):\n",
        "      return sum(args)\n",
        "calc = Calculator()\n",
        "print(calc.add(2, 3))\n",
        "print(calc.add(1, 2, 3, 4))"
      ],
      "metadata": {
        "colab": {
          "base_uri": "https://localhost:8080/"
        },
        "id": "Kamptst3PakH",
        "outputId": "81728d9f-1015-410d-d2dd-8269c84e005d"
      },
      "execution_count": null,
      "outputs": [
        {
          "output_type": "stream",
          "name": "stdout",
          "text": [
            "5\n",
            "10\n"
          ]
        }
      ]
    },
    {
      "cell_type": "markdown",
      "source": [
        "Create a Shape abstract class using abc module with an abstract method area(), then subclass Circle and Square.\n",
        "Override _str_() in both shapes to return friendly descriptions."
      ],
      "metadata": {
        "id": "MmAIvuk0Pntg"
      }
    },
    {
      "cell_type": "code",
      "source": [
        "from abc import ABC, abstractmethod\n",
        "import math\n",
        "class Shape(ABC):\n",
        "  @abstractmethod\n",
        "  def area(self):\n",
        "    pass\n",
        "class Circle(Shape):\n",
        "  def __init__(self, radius):\n",
        "    self.radius = radius\n",
        "  def area(self):\n",
        "    return math.pi * self.radius ** 2\n",
        "  def __str__(self):\n",
        "    return f\"Circle with radius {self.radius}\"\n",
        "class Square(Shape):\n",
        "   def __init__(self, side):\n",
        "       self.side = side\n",
        "   def area(self):\n",
        "       return self.side ** 2\n",
        "   def __str__(self):\n",
        "       return f\"Square with side {self.side}\"\n",
        "print(Circle(5), \"Area:\", Circle(5).area())\n",
        "print(Square(4), \"Area:\", Square(4).area())"
      ],
      "metadata": {
        "colab": {
          "base_uri": "https://localhost:8080/"
        },
        "id": "qP2rh-XgPpk2",
        "outputId": "be72dd41-098b-436c-dbbe-364c3c422eb5"
      },
      "execution_count": null,
      "outputs": [
        {
          "output_type": "stream",
          "name": "stdout",
          "text": [
            "Circle with radius 5 Area: 78.53981633974483\n",
            "Square with side 4 Area: 16\n"
          ]
        }
      ]
    },
    {
      "cell_type": "markdown",
      "source": [
        "Use magic methods (_len_()) in a custom Group class to return size."
      ],
      "metadata": {
        "id": "PWm9SCI3QpA5"
      }
    },
    {
      "cell_type": "code",
      "source": [
        "class Group:\n",
        "  def __init__(self, members):\n",
        "    self.members = members\n",
        "  def __len__(self):\n",
        "    return len(self.members)\n",
        "team = Group([\"Alice\", \"Ali\", \"Sara\"])\n",
        "print(len(team))"
      ],
      "metadata": {
        "colab": {
          "base_uri": "https://localhost:8080/"
        },
        "id": "UEcUWdYjQuu5",
        "outputId": "6b551bf6-f87c-4115-c08e-4c00327148f8"
      },
      "execution_count": null,
      "outputs": [
        {
          "output_type": "stream",
          "name": "stdout",
          "text": [
            "3\n"
          ]
        }
      ]
    },
    {
      "cell_type": "markdown",
      "source": [
        " Apply a class decorator that adds a created_at timestamp attribute to classes upon instantiation using datetime.now()."
      ],
      "metadata": {
        "id": "AZCJa0VcRLOH"
      }
    },
    {
      "cell_type": "code",
      "source": [
        "from datetime import datetime\n",
        "def add_timestamp(cls):\n",
        "    class NewClass(cls):\n",
        "         def __init__(self, *args, **kwargs):\n",
        "             super().__init__(*args, **kwargs)\n",
        "             self.created_at = datetime.now()\n",
        "    return NewClass\n",
        "@add_timestamp\n",
        "class Person:\n",
        "    def __init__(self, name):\n",
        "        self.name = name\n",
        "p = Person(\"Alice\")\n",
        "print(p.name, p.created_at)"
      ],
      "metadata": {
        "colab": {
          "base_uri": "https://localhost:8080/"
        },
        "id": "YoNNBpFWRPB0",
        "outputId": "5a2ed28e-5ed0-4e85-f02d-a6bbf9bc20c3"
      },
      "execution_count": null,
      "outputs": [
        {
          "output_type": "stream",
          "name": "stdout",
          "text": [
            "Alice 2025-08-13 07:15:16.612048\n"
          ]
        }
      ]
    }
  ]
}