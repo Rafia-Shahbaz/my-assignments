{
  "nbformat": 4,
  "nbformat_minor": 0,
  "metadata": {
    "colab": {
      "provenance": [],
      "authorship_tag": "ABX9TyNYNkRoTs7lOiPrQFr9ydEF",
      "include_colab_link": true
    },
    "kernelspec": {
      "name": "python3",
      "display_name": "Python 3"
    },
    "language_info": {
      "name": "python"
    }
  },
  "cells": [
    {
      "cell_type": "markdown",
      "metadata": {
        "id": "view-in-github",
        "colab_type": "text"
      },
      "source": [
        "<a href=\"https://colab.research.google.com/github/Rafia-Shahbaz/my-assignments/blob/main/Assignment_21(Rafia).ipynb\" target=\"_parent\"><img src=\"https://colab.research.google.com/assets/colab-badge.svg\" alt=\"Open In Colab\"/></a>"
      ]
    },
    {
      "cell_type": "markdown",
      "source": [
        "**𝐀𝐬𝐲𝐧𝐜𝐢𝐨 (A𝘀𝘆𝘯𝘤 & 𝐖𝐚𝐢𝐭)**"
      ],
      "metadata": {
        "id": "Oxre1PySuZ2O"
      }
    },
    {
      "cell_type": "markdown",
      "source": [
        "Write two async functions (task1 & task2), each await asyncio.sleep(), and print their start/end messages.\n",
        "Use asyncio.run() to execute them sequentially."
      ],
      "metadata": {
        "id": "7XblMPQjuUzS"
      }
    },
    {
      "cell_type": "code",
      "source": [
        "import asyncio\n",
        "async def task1():\n",
        "    print(\"Task 1 started\")\n",
        "    await asyncio.sleep(1)\n",
        "    print(\"Task 1 completed\")\n",
        "async def task2():\n",
        "    print(\"Task 2 started\")\n",
        "    await asyncio.sleep(1)\n",
        "    print(\"Task 2 completed\")\n",
        "\n",
        "async def main():\n",
        "  await task1()\n",
        "  await task2()\n",
        "await main()"
      ],
      "metadata": {
        "colab": {
          "base_uri": "https://localhost:8080/"
        },
        "id": "nW03ux7u0n3t",
        "outputId": "e136bd72-6a60-4dcb-fb96-5c07627e4a3f"
      },
      "execution_count": 38,
      "outputs": [
        {
          "output_type": "stream",
          "name": "stdout",
          "text": [
            "Task 1 started\n",
            "Task 1 completed\n",
            "Task 2 started\n",
            "Task 2 completed\n"
          ]
        }
      ]
    },
    {
      "cell_type": "markdown",
      "source": [
        " Combine them with asyncio.gather() to run both concurrently and print the total execution time."
      ],
      "metadata": {
        "id": "rKFsb1UnuYQR"
      }
    },
    {
      "cell_type": "code",
      "source": [
        "import asyncio\n",
        "import time\n",
        "async def task1():\n",
        "    print(\"Task 1 started\")\n",
        "    await asyncio.sleep(1)\n",
        "    print(\"Task 1 completed\")\n",
        "    return \"Task 1 result\"\n",
        "    async def task2():\n",
        "        print(\"Task 2 started\")\n",
        "        await asyncio.sleep(1)\n",
        "        print(\"Task 2 completed\")\n",
        "        return \"Task 2 result\"\n",
        "async def main():\n",
        "    start_time = time.time()\n",
        "    await asyncio.gather(task1(), task2())\n",
        "    end_time = time.time()\n",
        "    print(f\"Total execution time: {end_time - start_time} seconds\")\n",
        "await main()"
      ],
      "metadata": {
        "colab": {
          "base_uri": "https://localhost:8080/"
        },
        "id": "ayQ0e4ftwmPV",
        "outputId": "30080605-8266-4ae5-e6c9-468e26915c05"
      },
      "execution_count": 25,
      "outputs": [
        {
          "output_type": "stream",
          "name": "stdout",
          "text": [
            "Task 1 started\n",
            "Task 2 started\n",
            "Task 1 completed\n",
            "Task 2 completed\n",
            "Total execution time: 1.0019621849060059 seconds\n"
          ]
        }
      ]
    },
    {
      "cell_type": "markdown",
      "source": [
        "Create a coroutine that fetches a URL using aiohttp (or simulate with sleep) and use it in asyncio.gather()."
      ],
      "metadata": {
        "id": "LrYiLj81uYEa"
      }
    },
    {
      "cell_type": "code",
      "source": [
        "import asyncio\n",
        "async def fetch(url):\n",
        "    print(f\"Fetching {url}...\")\n",
        "    await asyncio.sleep(2)\n",
        "    return f\"Data fron {url}\"\n",
        "async def main():\n",
        "  results = await asyncio.gather(fetch(\"url1\"), fetch(\"url2\"))\n",
        "  print(results)\n",
        "await main()"
      ],
      "metadata": {
        "colab": {
          "base_uri": "https://localhost:8080/"
        },
        "id": "mYvYNEOmwxa0",
        "outputId": "aea19774-e608-45fb-e30e-076f140081a4"
      },
      "execution_count": 27,
      "outputs": [
        {
          "output_type": "stream",
          "name": "stdout",
          "text": [
            "Fetching url1...\n",
            "Fetching url2...\n",
            "['Data fron url1', 'Data fron url2']\n"
          ]
        }
      ]
    },
    {
      "cell_type": "markdown",
      "source": [
        "Use asyncio.create_task() to schedule a coroutine and demonstrate that it runs after the current function continues."
      ],
      "metadata": {
        "id": "TE8R2h18uX3M"
      }
    },
    {
      "cell_type": "code",
      "source": [
        "import asyncio\n",
        "async def background():\n",
        "    print(\"Background task started\")\n",
        "    await asyncio.sleep(2)\n",
        "    print(\"Background task completed\")\n",
        "async def main():\n",
        "    print(\"Main function started\")\n",
        "    task = asyncio.create_task(background())\n",
        "    await asyncio.sleep(1)\n",
        "    print(\"Main function continued\")\n",
        "    await task\n",
        "    print(\"Main function completed\")\n",
        "await main()"
      ],
      "metadata": {
        "colab": {
          "base_uri": "https://localhost:8080/"
        },
        "id": "x8yMnCHjx_tE",
        "outputId": "790dbccb-6e3c-4c6f-ccfd-2ef3ef9f0e6d"
      },
      "execution_count": 28,
      "outputs": [
        {
          "output_type": "stream",
          "name": "stdout",
          "text": [
            "Main function started\n",
            "Background task started\n",
            "Main function continued\n",
            "Background task completed\n",
            "Main function completed\n"
          ]
        }
      ]
    },
    {
      "cell_type": "markdown",
      "source": [
        "Use asyncio.sleep() with different durations and print messages when each completes using asyncio.as_completed()."
      ],
      "metadata": {
        "id": "IXRX6uCXuXoX"
      }
    },
    {
      "cell_type": "code",
      "source": [
        "import asyncio\n",
        "async def sleeper(n):\n",
        "    print(f\"Going to sleep for {n} seconds\")\n",
        "    await asyncio.sleep(n)\n",
        "    print(f\"Slept for {n} seconds\")\n",
        "async def main():\n",
        "    tasks = [asyncio.create_task(sleeper(i)) for i in range(3)]\n",
        "    for task in asyncio.as_completed(tasks):\n",
        "        await task\n",
        "        print(\"Next task\")\n",
        "await main()"
      ],
      "metadata": {
        "colab": {
          "base_uri": "https://localhost:8080/"
        },
        "id": "vusDSNOmyOje",
        "outputId": "7c4fcafa-1bd6-4d93-953b-525375bdbea9"
      },
      "execution_count": 29,
      "outputs": [
        {
          "output_type": "stream",
          "name": "stdout",
          "text": [
            "Going to sleep for 0 seconds\n",
            "Going to sleep for 1 seconds\n",
            "Going to sleep for 2 seconds\n",
            "Slept for 0 seconds\n",
            "Next task\n",
            "Slept for 1 seconds\n",
            "Next task\n",
            "Slept for 2 seconds\n",
            "Next task\n"
          ]
        }
      ]
    },
    {
      "cell_type": "markdown",
      "source": [
        "Implement an asyncio.Lock() that two coroutines must acquire before printing to avoid interleaved output."
      ],
      "metadata": {
        "id": "j6U73KopuXSc"
      }
    },
    {
      "cell_type": "code",
      "source": [
        "import asyncio\n",
        "lock = asyncio.Lock()\n",
        "async def coroutine1():\n",
        "    async with lock:\n",
        "        print(\"Coroutine 1 acquired lock\")\n",
        "        await asyncio.sleep(1)\n",
        "        print(\"Coroutine 1 released lock\")\n",
        "async def coroutine2():\n",
        "    async with lock:\n",
        "        print(\"Coroutine 2 acquired lock\")\n",
        "        await asyncio.sleep(1)\n",
        "        print(\"Coroutine 2 released lock\")\n",
        "async def main():\n",
        "    task1 = asyncio.create_task(coroutine1())\n",
        "    task2 = asyncio.create_task(coroutine2())\n",
        "    await task1\n",
        "    await task2\n",
        "await main()"
      ],
      "metadata": {
        "colab": {
          "base_uri": "https://localhost:8080/"
        },
        "id": "4s88UCwyyf2e",
        "outputId": "05d75dd9-c297-4400-815f-82a6c5069e28"
      },
      "execution_count": 30,
      "outputs": [
        {
          "output_type": "stream",
          "name": "stdout",
          "text": [
            "Coroutine 1 acquired lock\n",
            "Coroutine 1 released lock\n",
            "Coroutine 2 acquired lock\n",
            "Coroutine 2 released lock\n"
          ]
        }
      ]
    },
    {
      "cell_type": "markdown",
      "source": [
        " Create a producer-consumer pattern using asyncio.Queue()—producer puts items, consumer retrieves them."
      ],
      "metadata": {
        "id": "vr4gCey3uXFT"
      }
    },
    {
      "cell_type": "code",
      "source": [
        "import asyncio\n",
        "async def producer(q):\n",
        "    for i in range(5):\n",
        "        await q.put(f\"Item {i}\")\n",
        "        print(f\"Produced Item {i}\")\n",
        "        await asyncio.sleep(1)\n",
        "async def consumer(q):\n",
        "    while True:\n",
        "        item = await q.get()\n",
        "        print(f\"Consumed {item}\")\n",
        "        q.task_done()\n",
        "        await asyncio.sleep(1)\n",
        "        if q.empty():\n",
        "            break\n",
        "\n",
        "async def main():\n",
        "    q = asyncio.Queue()\n",
        "    producer_task = asyncio.create_task(producer(q))\n",
        "    consumer_task = asyncio.create_task(consumer(q))\n",
        "    await asyncio.gather(producer_task, consumer_task)\n",
        "    await q.join()\n",
        "    print(\"All items consumed\")\n",
        "    producer_task.cancel()\n",
        "    consumer_task.cancel()\n",
        "    await producer_task\n",
        "    await consumer_task\n",
        "    print(\"Main function completed\")\n",
        "await main()"
      ],
      "metadata": {
        "colab": {
          "base_uri": "https://localhost:8080/"
        },
        "id": "J8I9rmsByuG9",
        "outputId": "17fb2d4e-e040-487f-cc7d-8028df296585"
      },
      "execution_count": 31,
      "outputs": [
        {
          "output_type": "stream",
          "name": "stdout",
          "text": [
            "Produced Item 0\n",
            "Consumed Item 0\n",
            "Produced Item 1\n",
            "Consumed Item 1\n",
            "Produced Item 2\n",
            "Consumed Item 2\n",
            "Produced Item 3\n",
            "Consumed Item 3\n",
            "Produced Item 4\n",
            "Consumed Item 4\n",
            "All items consumed\n",
            "Main function completed\n"
          ]
        }
      ]
    },
    {
      "cell_type": "markdown",
      "source": [
        "Use asyncio.wait_for() to cancel a coroutine if it exceeds a timeout."
      ],
      "metadata": {
        "id": "OJl-TrQruWny"
      }
    },
    {
      "cell_type": "code",
      "source": [
        "import asyncio\n",
        "async def long_task():\n",
        "    print(\"Starting long task\")\n",
        "    await asyncio.sleep(5)\n",
        "    print(\"Long task completed\")\n",
        "async def main():\n",
        "    task = asyncio.create_task(long_task())\n",
        "    try:\n",
        "        await asyncio.wait_for(task, timeout=3)\n",
        "    except asyncio.TimeoutError:\n",
        "        print(\"Task timed out\")\n",
        "        task.cancel()\n",
        "        try:\n",
        "            await task\n",
        "        except asyncio.CancelledError:\n",
        "            print(\"Task canceled\")\n",
        "            print(\"Main function completed\")\n",
        "await main()"
      ],
      "metadata": {
        "colab": {
          "base_uri": "https://localhost:8080/"
        },
        "id": "Tg-ubtlZ4r2k",
        "outputId": "676c32b5-8380-46d8-ad37-4e5820411b93"
      },
      "execution_count": 34,
      "outputs": [
        {
          "output_type": "stream",
          "name": "stdout",
          "text": [
            "Starting long task\n",
            "Task timed out\n",
            "Task canceled\n",
            "Main function completed\n"
          ]
        }
      ]
    },
    {
      "cell_type": "markdown",
      "source": [
        "Demonstrate error handling in async functions using try/except inside an async function."
      ],
      "metadata": {
        "id": "6fXMJ70cuVcM"
      }
    },
    {
      "cell_type": "code",
      "source": [
        "import asyncio\n",
        "async def faulty():\n",
        "    raise ValueError(\"Something went wrong\")\n",
        "\n",
        "async def main():\n",
        "    try:\n",
        "        await faulty()\n",
        "    except Exception as e:\n",
        "        print(\"Caught error:\", e)\n",
        "await main()"
      ],
      "metadata": {
        "colab": {
          "base_uri": "https://localhost:8080/"
        },
        "id": "beged2sVzdBn",
        "outputId": "9536ddfa-d7af-4a52-d2b1-b6fbc2a014f3"
      },
      "execution_count": 37,
      "outputs": [
        {
          "output_type": "stream",
          "name": "stdout",
          "text": [
            "Caught error: Something went wrong\n"
          ]
        }
      ]
    }
  ]
}